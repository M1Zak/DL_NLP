{
  "nbformat": 4,
  "nbformat_minor": 0,
  "metadata": {
    "colab": {
      "name": "Word_vectors_and_word2vec.ipynb",
      "provenance": [],
      "collapsed_sections": []
    },
    "kernelspec": {
      "name": "python3",
      "display_name": "Python 3"
    },
    "language_info": {
      "name": "python"
    }
  },
  "cells": [
    {
      "cell_type": "markdown",
      "metadata": {
        "id": "lKj0oQqP7QYd"
      },
      "source": [
        "**Load Dependencies**"
      ]
    },
    {
      "cell_type": "code",
      "metadata": {
        "id": "UBNoYaP37gCZ"
      },
      "source": [
        "import nltk\n",
        "from nltk import word_tokenize, sent_tokenize\n",
        "import gensim\n",
        "from gensim.models.word2vec import Word2Vec\n",
        "from sklearn.manifold import TSNE\n",
        "import pandas as pd\n",
        "from bokeh.io import output_notebook\n",
        "from bokeh.plotting import show, figure"
      ],
      "execution_count": null,
      "outputs": []
    },
    {
      "cell_type": "code",
      "metadata": {
        "colab": {
          "base_uri": "https://localhost:8080/"
        },
        "id": "I6u2YBWW9Ofa",
        "outputId": "3a9a1e14-1152-4712-d4c8-2756f791d35d"
      },
      "source": [
        "nltk.download('punkt') # English-language sentence tokenizer (not all periods end sentences; not all sentences start with a capital letter)"
      ],
      "execution_count": null,
      "outputs": [
        {
          "output_type": "stream",
          "text": [
            "[nltk_data] Downloading package punkt to /root/nltk_data...\n",
            "[nltk_data]   Unzipping tokenizers/punkt.zip.\n"
          ],
          "name": "stdout"
        },
        {
          "output_type": "execute_result",
          "data": {
            "text/plain": [
              "True"
            ]
          },
          "metadata": {
            "tags": []
          },
          "execution_count": 4
        }
      ]
    },
    {
      "cell_type": "markdown",
      "metadata": {
        "id": "_bdBdhPh9_Ym"
      },
      "source": [
        "**Load Data**"
      ]
    },
    {
      "cell_type": "code",
      "metadata": {
        "colab": {
          "base_uri": "https://localhost:8080/"
        },
        "id": "Q7pJqAWv97OJ",
        "outputId": "72e5edeb-987d-4c7e-a3b3-8b033e47a5b7"
      },
      "source": [
        "nltk.download('gutenberg')"
      ],
      "execution_count": null,
      "outputs": [
        {
          "output_type": "stream",
          "text": [
            "[nltk_data] Downloading package gutenberg to /root/nltk_data...\n",
            "[nltk_data]   Unzipping corpora/gutenberg.zip.\n"
          ],
          "name": "stdout"
        },
        {
          "output_type": "execute_result",
          "data": {
            "text/plain": [
              "True"
            ]
          },
          "metadata": {
            "tags": []
          },
          "execution_count": 5
        }
      ]
    },
    {
      "cell_type": "code",
      "metadata": {
        "id": "nutQstlV-cum"
      },
      "source": [
        "from nltk.corpus import gutenberg"
      ],
      "execution_count": null,
      "outputs": []
    },
    {
      "cell_type": "code",
      "metadata": {
        "colab": {
          "base_uri": "https://localhost:8080/"
        },
        "id": "NQ5gLWKK_Emw",
        "outputId": "30f52ceb-f73c-4e29-aedf-ddfb615af20d"
      },
      "source": [
        "len(gutenberg.fileids())"
      ],
      "execution_count": null,
      "outputs": [
        {
          "output_type": "execute_result",
          "data": {
            "text/plain": [
              "18"
            ]
          },
          "metadata": {
            "tags": []
          },
          "execution_count": 7
        }
      ]
    },
    {
      "cell_type": "code",
      "metadata": {
        "colab": {
          "base_uri": "https://localhost:8080/"
        },
        "id": "muwxw6e4_IAF",
        "outputId": "b7d74aa9-5fc1-47ca-efd7-117e1bd1ee8b"
      },
      "source": [
        "gutenberg.fileids()"
      ],
      "execution_count": null,
      "outputs": [
        {
          "output_type": "execute_result",
          "data": {
            "text/plain": [
              "['austen-emma.txt',\n",
              " 'austen-persuasion.txt',\n",
              " 'austen-sense.txt',\n",
              " 'bible-kjv.txt',\n",
              " 'blake-poems.txt',\n",
              " 'bryant-stories.txt',\n",
              " 'burgess-busterbrown.txt',\n",
              " 'carroll-alice.txt',\n",
              " 'chesterton-ball.txt',\n",
              " 'chesterton-brown.txt',\n",
              " 'chesterton-thursday.txt',\n",
              " 'edgeworth-parents.txt',\n",
              " 'melville-moby_dick.txt',\n",
              " 'milton-paradise.txt',\n",
              " 'shakespeare-caesar.txt',\n",
              " 'shakespeare-hamlet.txt',\n",
              " 'shakespeare-macbeth.txt',\n",
              " 'whitman-leaves.txt']"
            ]
          },
          "metadata": {
            "tags": []
          },
          "execution_count": 8
        }
      ]
    },
    {
      "cell_type": "markdown",
      "metadata": {
        "id": "FGZfsWbNABLn"
      },
      "source": [
        "**Tokenise text**"
      ]
    },
    {
      "cell_type": "code",
      "metadata": {
        "id": "V6BfU1ar_ffi"
      },
      "source": [
        "gberg_sent_tokens = sent_tokenize(gutenberg.raw())"
      ],
      "execution_count": null,
      "outputs": []
    },
    {
      "cell_type": "code",
      "metadata": {
        "colab": {
          "base_uri": "https://localhost:8080/"
        },
        "id": "jYPdIucWAiF9",
        "outputId": "a268a1d1-315c-4ff0-bf75-03216dc3f922"
      },
      "source": [
        "gberg_sent_tokens[0:12]"
      ],
      "execution_count": null,
      "outputs": [
        {
          "output_type": "execute_result",
          "data": {
            "text/plain": [
              "['[Emma by Jane Austen 1816]\\n\\nVOLUME I\\n\\nCHAPTER I\\n\\n\\nEmma Woodhouse, handsome, clever, and rich, with a comfortable home\\nand happy disposition, seemed to unite some of the best blessings\\nof existence; and had lived nearly twenty-one years in the world\\nwith very little to distress or vex her.',\n",
              " \"She was the youngest of the two daughters of a most affectionate,\\nindulgent father; and had, in consequence of her sister's marriage,\\nbeen mistress of his house from a very early period.\",\n",
              " 'Her mother\\nhad died too long ago for her to have more than an indistinct\\nremembrance of her caresses; and her place had been supplied\\nby an excellent woman as governess, who had fallen little short\\nof a mother in affection.',\n",
              " \"Sixteen years had Miss Taylor been in Mr. Woodhouse's family,\\nless as a governess than a friend, very fond of both daughters,\\nbut particularly of Emma.\",\n",
              " 'Between _them_ it was more the intimacy\\nof sisters.',\n",
              " \"Even before Miss Taylor had ceased to hold the nominal\\noffice of governess, the mildness of her temper had hardly allowed\\nher to impose any restraint; and the shadow of authority being\\nnow long passed away, they had been living together as friend and\\nfriend very mutually attached, and Emma doing just what she liked;\\nhighly esteeming Miss Taylor's judgment, but directed chiefly by\\nher own.\",\n",
              " \"The real evils, indeed, of Emma's situation were the power of having\\nrather too much her own way, and a disposition to think a little\\ntoo well of herself; these were the disadvantages which threatened\\nalloy to her many enjoyments.\",\n",
              " 'The danger, however, was at present\\nso unperceived, that they did not by any means rank as misfortunes\\nwith her.',\n",
              " 'Sorrow came--a gentle sorrow--but not at all in the shape of any\\ndisagreeable consciousness.--Miss Taylor married.',\n",
              " \"It was Miss\\nTaylor's loss which first brought grief.\",\n",
              " 'It was on the wedding-day\\nof this beloved friend that Emma first sat in mournful thought\\nof any continuance.',\n",
              " 'The wedding over, and the bride-people gone,\\nher father and herself were left to dine together, with no prospect\\nof a third to cheer a long evening.']"
            ]
          },
          "metadata": {
            "tags": []
          },
          "execution_count": 10
        }
      ]
    },
    {
      "cell_type": "code",
      "metadata": {
        "colab": {
          "base_uri": "https://localhost:8080/",
          "height": 52
        },
        "id": "nqIOmWAyAvGg",
        "outputId": "676f21b9-e2ed-47c1-dc37-90f795a380ce"
      },
      "source": [
        "gberg_sent_tokens[1]"
      ],
      "execution_count": null,
      "outputs": [
        {
          "output_type": "execute_result",
          "data": {
            "application/vnd.google.colaboratory.intrinsic+json": {
              "type": "string"
            },
            "text/plain": [
              "\"She was the youngest of the two daughters of a most affectionate,\\nindulgent father; and had, in consequence of her sister's marriage,\\nbeen mistress of his house from a very early period.\""
            ]
          },
          "metadata": {
            "tags": []
          },
          "execution_count": 11
        }
      ]
    },
    {
      "cell_type": "code",
      "metadata": {
        "colab": {
          "base_uri": "https://localhost:8080/"
        },
        "id": "W9Xxq14pBu7R",
        "outputId": "130b68c5-218e-4ea1-be8a-cac7c733bfef"
      },
      "source": [
        "word_tokenize(gberg_sent_tokens[0])"
      ],
      "execution_count": null,
      "outputs": [
        {
          "output_type": "execute_result",
          "data": {
            "text/plain": [
              "['[',\n",
              " 'Emma',\n",
              " 'by',\n",
              " 'Jane',\n",
              " 'Austen',\n",
              " '1816',\n",
              " ']',\n",
              " 'VOLUME',\n",
              " 'I',\n",
              " 'CHAPTER',\n",
              " 'I',\n",
              " 'Emma',\n",
              " 'Woodhouse',\n",
              " ',',\n",
              " 'handsome',\n",
              " ',',\n",
              " 'clever',\n",
              " ',',\n",
              " 'and',\n",
              " 'rich',\n",
              " ',',\n",
              " 'with',\n",
              " 'a',\n",
              " 'comfortable',\n",
              " 'home',\n",
              " 'and',\n",
              " 'happy',\n",
              " 'disposition',\n",
              " ',',\n",
              " 'seemed',\n",
              " 'to',\n",
              " 'unite',\n",
              " 'some',\n",
              " 'of',\n",
              " 'the',\n",
              " 'best',\n",
              " 'blessings',\n",
              " 'of',\n",
              " 'existence',\n",
              " ';',\n",
              " 'and',\n",
              " 'had',\n",
              " 'lived',\n",
              " 'nearly',\n",
              " 'twenty-one',\n",
              " 'years',\n",
              " 'in',\n",
              " 'the',\n",
              " 'world',\n",
              " 'with',\n",
              " 'very',\n",
              " 'little',\n",
              " 'to',\n",
              " 'distress',\n",
              " 'or',\n",
              " 'vex',\n",
              " 'her',\n",
              " '.']"
            ]
          },
          "metadata": {
            "tags": []
          },
          "execution_count": 12
        }
      ]
    },
    {
      "cell_type": "code",
      "metadata": {
        "colab": {
          "base_uri": "https://localhost:8080/",
          "height": 35
        },
        "id": "gpeOrf0KC-fJ",
        "outputId": "ede82e8d-1ae4-4f7f-c17b-7509ead3d658"
      },
      "source": [
        "word_tokenize(gberg_sent_tokens[1])[2]"
      ],
      "execution_count": null,
      "outputs": [
        {
          "output_type": "execute_result",
          "data": {
            "application/vnd.google.colaboratory.intrinsic+json": {
              "type": "string"
            },
            "text/plain": [
              "'the'"
            ]
          },
          "metadata": {
            "tags": []
          },
          "execution_count": 13
        }
      ]
    },
    {
      "cell_type": "code",
      "metadata": {
        "id": "K9yMiHVyDtph"
      },
      "source": [
        "# A convenient method that handles newlines, as well as tokenizing sentences and words in one shot\n",
        "gberg_sents = gutenberg.sents()"
      ],
      "execution_count": null,
      "outputs": []
    },
    {
      "cell_type": "code",
      "metadata": {
        "id": "GmDdAnwDFvmA",
        "colab": {
          "base_uri": "https://localhost:8080/"
        },
        "outputId": "8f02c916-d182-42c1-8d2f-dc72147b6033"
      },
      "source": [
        "gberg_sents[0:6]"
      ],
      "execution_count": null,
      "outputs": [
        {
          "output_type": "execute_result",
          "data": {
            "text/plain": [
              "[['[', 'Emma', 'by', 'Jane', 'Austen', '1816', ']'],\n",
              " ['VOLUME', 'I'],\n",
              " ['CHAPTER', 'I'],\n",
              " ['Emma',\n",
              "  'Woodhouse',\n",
              "  ',',\n",
              "  'handsome',\n",
              "  ',',\n",
              "  'clever',\n",
              "  ',',\n",
              "  'and',\n",
              "  'rich',\n",
              "  ',',\n",
              "  'with',\n",
              "  'a',\n",
              "  'comfortable',\n",
              "  'home',\n",
              "  'and',\n",
              "  'happy',\n",
              "  'disposition',\n",
              "  ',',\n",
              "  'seemed',\n",
              "  'to',\n",
              "  'unite',\n",
              "  'some',\n",
              "  'of',\n",
              "  'the',\n",
              "  'best',\n",
              "  'blessings',\n",
              "  'of',\n",
              "  'existence',\n",
              "  ';',\n",
              "  'and',\n",
              "  'had',\n",
              "  'lived',\n",
              "  'nearly',\n",
              "  'twenty',\n",
              "  '-',\n",
              "  'one',\n",
              "  'years',\n",
              "  'in',\n",
              "  'the',\n",
              "  'world',\n",
              "  'with',\n",
              "  'very',\n",
              "  'little',\n",
              "  'to',\n",
              "  'distress',\n",
              "  'or',\n",
              "  'vex',\n",
              "  'her',\n",
              "  '.'],\n",
              " ['She',\n",
              "  'was',\n",
              "  'the',\n",
              "  'youngest',\n",
              "  'of',\n",
              "  'the',\n",
              "  'two',\n",
              "  'daughters',\n",
              "  'of',\n",
              "  'a',\n",
              "  'most',\n",
              "  'affectionate',\n",
              "  ',',\n",
              "  'indulgent',\n",
              "  'father',\n",
              "  ';',\n",
              "  'and',\n",
              "  'had',\n",
              "  ',',\n",
              "  'in',\n",
              "  'consequence',\n",
              "  'of',\n",
              "  'her',\n",
              "  'sister',\n",
              "  \"'\",\n",
              "  's',\n",
              "  'marriage',\n",
              "  ',',\n",
              "  'been',\n",
              "  'mistress',\n",
              "  'of',\n",
              "  'his',\n",
              "  'house',\n",
              "  'from',\n",
              "  'a',\n",
              "  'very',\n",
              "  'early',\n",
              "  'period',\n",
              "  '.'],\n",
              " ['Her',\n",
              "  'mother',\n",
              "  'had',\n",
              "  'died',\n",
              "  'too',\n",
              "  'long',\n",
              "  'ago',\n",
              "  'for',\n",
              "  'her',\n",
              "  'to',\n",
              "  'have',\n",
              "  'more',\n",
              "  'than',\n",
              "  'an',\n",
              "  'indistinct',\n",
              "  'remembrance',\n",
              "  'of',\n",
              "  'her',\n",
              "  'caresses',\n",
              "  ';',\n",
              "  'and',\n",
              "  'her',\n",
              "  'place',\n",
              "  'had',\n",
              "  'been',\n",
              "  'supplied',\n",
              "  'by',\n",
              "  'an',\n",
              "  'excellent',\n",
              "  'woman',\n",
              "  'as',\n",
              "  'governess',\n",
              "  ',',\n",
              "  'who',\n",
              "  'had',\n",
              "  'fallen',\n",
              "  'little',\n",
              "  'short',\n",
              "  'of',\n",
              "  'a',\n",
              "  'mother',\n",
              "  'in',\n",
              "  'affection',\n",
              "  '.']]"
            ]
          },
          "metadata": {
            "tags": []
          },
          "execution_count": 15
        }
      ]
    },
    {
      "cell_type": "code",
      "metadata": {
        "colab": {
          "base_uri": "https://localhost:8080/"
        },
        "id": "4Qv7D0gWF_K2",
        "outputId": "efdb8f91-d988-4ad0-92e5-d481123b27d6"
      },
      "source": [
        "gberg_sents[4]"
      ],
      "execution_count": null,
      "outputs": [
        {
          "output_type": "execute_result",
          "data": {
            "text/plain": [
              "['She',\n",
              " 'was',\n",
              " 'the',\n",
              " 'youngest',\n",
              " 'of',\n",
              " 'the',\n",
              " 'two',\n",
              " 'daughters',\n",
              " 'of',\n",
              " 'a',\n",
              " 'most',\n",
              " 'affectionate',\n",
              " ',',\n",
              " 'indulgent',\n",
              " 'father',\n",
              " ';',\n",
              " 'and',\n",
              " 'had',\n",
              " ',',\n",
              " 'in',\n",
              " 'consequence',\n",
              " 'of',\n",
              " 'her',\n",
              " 'sister',\n",
              " \"'\",\n",
              " 's',\n",
              " 'marriage',\n",
              " ',',\n",
              " 'been',\n",
              " 'mistress',\n",
              " 'of',\n",
              " 'his',\n",
              " 'house',\n",
              " 'from',\n",
              " 'a',\n",
              " 'very',\n",
              " 'early',\n",
              " 'period',\n",
              " '.']"
            ]
          },
          "metadata": {
            "tags": []
          },
          "execution_count": 16
        }
      ]
    },
    {
      "cell_type": "code",
      "metadata": {
        "colab": {
          "base_uri": "https://localhost:8080/",
          "height": 35
        },
        "id": "VLG_luzcJOp2",
        "outputId": "ae3145b2-d1c3-4f15-df23-8aeba2c2c07f"
      },
      "source": [
        "gberg_sents[4][14]"
      ],
      "execution_count": null,
      "outputs": [
        {
          "output_type": "execute_result",
          "data": {
            "application/vnd.google.colaboratory.intrinsic+json": {
              "type": "string"
            },
            "text/plain": [
              "'father'"
            ]
          },
          "metadata": {
            "tags": []
          },
          "execution_count": 17
        }
      ]
    },
    {
      "cell_type": "code",
      "metadata": {
        "id": "X15MUQFJJrw9",
        "colab": {
          "base_uri": "https://localhost:8080/"
        },
        "outputId": "1f570416-095b-4e6d-a986-e1cc50cf9359"
      },
      "source": [
        "# Another convenient method that we don't immediately need: \n",
        "gutenberg.words()"
      ],
      "execution_count": null,
      "outputs": [
        {
          "output_type": "execute_result",
          "data": {
            "text/plain": [
              "['[', 'Emma', 'by', 'Jane', 'Austen', '1816', ']', ...]"
            ]
          },
          "metadata": {
            "tags": []
          },
          "execution_count": 18
        }
      ]
    },
    {
      "cell_type": "code",
      "metadata": {
        "id": "le-DuCrRKDZF"
      },
      "source": [
        "# gutenberg.words() is analogous to the following line, which need not be run: \n",
        "#word_tokenize(gutenberg.raw())\n",
        "# as it would list the entire corpus"
      ],
      "execution_count": null,
      "outputs": []
    },
    {
      "cell_type": "code",
      "metadata": {
        "colab": {
          "base_uri": "https://localhost:8080/"
        },
        "id": "ETnkE1l0KNJH",
        "outputId": "7612c24c-f340-49ad-ba36-5409a6a3ee6e"
      },
      "source": [
        "# our Gutenberg corpus is 2.6m words in length: \n",
        "len(gutenberg.raw())"
      ],
      "execution_count": null,
      "outputs": [
        {
          "output_type": "execute_result",
          "data": {
            "text/plain": [
              "11793318"
            ]
          },
          "metadata": {
            "tags": []
          },
          "execution_count": 20
        }
      ]
    },
    {
      "cell_type": "code",
      "metadata": {
        "colab": {
          "base_uri": "https://localhost:8080/"
        },
        "id": "vhFPaGrIMpTt",
        "outputId": "975425cb-296b-4a08-e12b-7527269a0685"
      },
      "source": [
        "len(gutenberg.words())"
      ],
      "execution_count": null,
      "outputs": [
        {
          "output_type": "execute_result",
          "data": {
            "text/plain": [
              "2621613"
            ]
          },
          "metadata": {
            "tags": []
          },
          "execution_count": 21
        }
      ]
    },
    {
      "cell_type": "markdown",
      "metadata": {
        "id": "zzfiYuiRNBd4"
      },
      "source": [
        "**Run word2vec**"
      ]
    },
    {
      "cell_type": "code",
      "metadata": {
        "id": "FCtpx514M5y9"
      },
      "source": [
        "model = Word2Vec(sentences=gberg_sents, size=64, sg=1, window=10, min_count=5, workers=8)"
      ],
      "execution_count": null,
      "outputs": []
    },
    {
      "cell_type": "code",
      "metadata": {
        "id": "_FhEX7pmPBZl"
      },
      "source": [
        "model.save('raw_gutenberg_model.w2v')"
      ],
      "execution_count": null,
      "outputs": []
    },
    {
      "cell_type": "markdown",
      "metadata": {
        "id": "849fAEIqPp5s"
      },
      "source": [
        "**Explore** **model**"
      ]
    },
    {
      "cell_type": "code",
      "metadata": {
        "id": "oKurOqJIPekR"
      },
      "source": [
        "# skip re-training the model using the next line: as we can load the trained model from the saved loc.\n",
        "model = gensim.models.Word2Vec.load('raw_gutenberg_model.w2v')"
      ],
      "execution_count": null,
      "outputs": []
    },
    {
      "cell_type": "code",
      "metadata": {
        "colab": {
          "base_uri": "https://localhost:8080/"
        },
        "id": "AoC9LE2RQXpd",
        "outputId": "316ba3bd-1c26-4154-8503-36046704367f"
      },
      "source": [
        "model.wv['dog']"
      ],
      "execution_count": null,
      "outputs": [
        {
          "output_type": "execute_result",
          "data": {
            "text/plain": [
              "array([ 0.2758564 ,  0.19389503,  0.09921485,  0.18718605,  0.25579908,\n",
              "        0.3511914 ,  0.04934984, -0.1275554 ,  0.29673687,  0.24426503,\n",
              "       -0.15590529,  1.2551665 ,  0.16555962, -0.03253528, -0.25612152,\n",
              "       -0.18227388,  0.08835025,  0.12748653,  0.19124743,  0.21050847,\n",
              "       -0.05364254,  0.27734542, -0.34833264,  0.31854904, -0.11189602,\n",
              "        0.2884107 , -0.18016295, -0.45710707, -0.07138496,  0.1685546 ,\n",
              "       -0.0904722 , -0.10058635,  0.4426659 , -0.09493393, -0.32582644,\n",
              "       -0.25687853,  0.5575899 , -0.14363497, -0.28450364,  0.1929922 ,\n",
              "        0.03577699,  0.28881165, -0.253583  , -0.03058347,  0.07171685,\n",
              "       -0.2021446 , -0.32135987, -0.75394034, -0.07441638,  0.03891585,\n",
              "       -0.3128604 , -0.21936046, -0.06340459, -0.13789219, -0.1169392 ,\n",
              "       -0.33756343,  0.150887  , -0.22844532, -0.19806841,  0.17280646,\n",
              "        0.07406019,  0.11091194, -0.42252144, -0.2656763 ], dtype=float32)"
            ]
          },
          "metadata": {
            "tags": []
          },
          "execution_count": 25
        }
      ]
    },
    {
      "cell_type": "code",
      "metadata": {
        "colab": {
          "base_uri": "https://localhost:8080/"
        },
        "id": "m3y7sBgwRLIf",
        "outputId": "2fa2aeff-1dde-4d86-9c79-11844ed1ee4e"
      },
      "source": [
        "len(model.wv['dog'])"
      ],
      "execution_count": null,
      "outputs": [
        {
          "output_type": "execute_result",
          "data": {
            "text/plain": [
              "64"
            ]
          },
          "metadata": {
            "tags": []
          },
          "execution_count": 26
        }
      ]
    },
    {
      "cell_type": "code",
      "metadata": {
        "colab": {
          "base_uri": "https://localhost:8080/"
        },
        "id": "lSM72m5RRwjH",
        "outputId": "ba6ac941-175c-44a5-de2f-4d7c4778c56b"
      },
      "source": [
        "model.wv.most_similar('dog')#i.e., the distance"
      ],
      "execution_count": null,
      "outputs": [
        {
          "output_type": "execute_result",
          "data": {
            "text/plain": [
              "[('puppy', 0.8340737223625183),\n",
              " ('cage', 0.7928931713104248),\n",
              " ('chimney', 0.7839993238449097),\n",
              " ('thief', 0.7753556966781616),\n",
              " ('sweeper', 0.7708736658096313),\n",
              " ('broth', 0.7643749713897705),\n",
              " ('whip', 0.7533056735992432),\n",
              " ('gallon', 0.7523377537727356),\n",
              " ('kick', 0.7522217035293579),\n",
              " ('boy', 0.7465114593505859)]"
            ]
          },
          "metadata": {
            "tags": []
          },
          "execution_count": 27
        }
      ]
    },
    {
      "cell_type": "code",
      "metadata": {
        "colab": {
          "base_uri": "https://localhost:8080/"
        },
        "id": "79UWl7TBSHqo",
        "outputId": "db4d8719-5625-46b0-8227-eba6510708b2"
      },
      "source": [
        "model.wv.most_similar('think')"
      ],
      "execution_count": null,
      "outputs": [
        {
          "output_type": "execute_result",
          "data": {
            "text/plain": [
              "[('contradict', 0.8554378747940063),\n",
              " ('manage', 0.843704104423523),\n",
              " ('suppose', 0.8308237791061401),\n",
              " ('Mamma', 0.8161925673484802),\n",
              " ('believe', 0.8160182237625122),\n",
              " ('imagine', 0.8138350248336792),\n",
              " ('NOW', 0.8135796189308167),\n",
              " ('know', 0.8104155659675598),\n",
              " ('interfere', 0.8067306280136108),\n",
              " ('guess', 0.8060098886489868)]"
            ]
          },
          "metadata": {
            "tags": []
          },
          "execution_count": 28
        }
      ]
    },
    {
      "cell_type": "code",
      "metadata": {
        "colab": {
          "base_uri": "https://localhost:8080/"
        },
        "id": "JeV0kMLCSV6Y",
        "outputId": "68deaf9a-7ef5-4e27-e447-83b8dc41a08e"
      },
      "source": [
        "model.wv.most_similar('day')"
      ],
      "execution_count": null,
      "outputs": [
        {
          "output_type": "execute_result",
          "data": {
            "text/plain": [
              "[('morning', 0.7808342576026917),\n",
              " ('night', 0.753442645072937),\n",
              " ('month', 0.7276401519775391),\n",
              " ('time', 0.7273766994476318),\n",
              " ('week', 0.6760929822921753),\n",
              " ('Saturday', 0.6664142608642578),\n",
              " ('year', 0.6654803156852722),\n",
              " ('evening', 0.6626105308532715),\n",
              " ('afternoon', 0.6599017381668091),\n",
              " ('Adar', 0.6503151655197144)]"
            ]
          },
          "metadata": {
            "tags": []
          },
          "execution_count": 29
        }
      ]
    },
    {
      "cell_type": "code",
      "metadata": {
        "colab": {
          "base_uri": "https://localhost:8080/"
        },
        "id": "s2kKjBKATQLp",
        "outputId": "3e17dcc9-59e8-4d3f-d86f-6468c92fbe22"
      },
      "source": [
        "model.wv.most_similar('mother')"
      ],
      "execution_count": null,
      "outputs": [
        {
          "output_type": "execute_result",
          "data": {
            "text/plain": [
              "[('sister', 0.8727375268936157),\n",
              " ('father', 0.8622727990150452),\n",
              " ('brother', 0.8418745994567871),\n",
              " ('wife', 0.809418797492981),\n",
              " ('husband', 0.8053178787231445),\n",
              " ('daughter', 0.7809246778488159),\n",
              " ('child', 0.7518359422683716),\n",
              " ('Mary', 0.7497849464416504),\n",
              " ('nurse', 0.749450147151947),\n",
              " ('Amnon', 0.7461297512054443)]"
            ]
          },
          "metadata": {
            "tags": []
          },
          "execution_count": 30
        }
      ]
    },
    {
      "cell_type": "code",
      "metadata": {
        "colab": {
          "base_uri": "https://localhost:8080/",
          "height": 89
        },
        "id": "Legztk6bTXAS",
        "outputId": "bf990530-678c-41b4-ada8-660876b5ad3d"
      },
      "source": [
        "model.wv.doesnt_match(\"mother sister daughter dog\". split())"
      ],
      "execution_count": null,
      "outputs": [
        {
          "output_type": "stream",
          "text": [
            "/usr/local/lib/python3.7/dist-packages/gensim/models/keyedvectors.py:895: FutureWarning: arrays to stack must be passed as a \"sequence\" type such as list or tuple. Support for non-sequence iterables such as generators is deprecated as of NumPy 1.16 and will raise an error in the future.\n",
            "  vectors = vstack(self.word_vec(word, use_norm=True) for word in used_words).astype(REAL)\n"
          ],
          "name": "stderr"
        },
        {
          "output_type": "execute_result",
          "data": {
            "application/vnd.google.colaboratory.intrinsic+json": {
              "type": "string"
            },
            "text/plain": [
              "'dog'"
            ]
          },
          "metadata": {
            "tags": []
          },
          "execution_count": 31
        }
      ]
    },
    {
      "cell_type": "code",
      "metadata": {
        "colab": {
          "base_uri": "https://localhost:8080/"
        },
        "id": "6Ysw9AH7Tr6T",
        "outputId": "d14c56e3-0096-4a57-bb04-d6043608b24c"
      },
      "source": [
        "model.wv.similarity('father', 'dog')"
      ],
      "execution_count": null,
      "outputs": [
        {
          "output_type": "execute_result",
          "data": {
            "text/plain": [
              "0.45413953"
            ]
          },
          "metadata": {
            "tags": []
          },
          "execution_count": 32
        }
      ]
    },
    {
      "cell_type": "code",
      "metadata": {
        "colab": {
          "base_uri": "https://localhost:8080/"
        },
        "id": "wy1EKcw9UQ8F",
        "outputId": "abcf2127-aa23-4342-f720-ec657380c7a0"
      },
      "source": [
        "# close, but not quite; distinctly in female direction: while this model performs better\n",
        "model.wv.most_similar(positive=['father', 'woman'], negative=['man'])"
      ],
      "execution_count": null,
      "outputs": [
        {
          "output_type": "execute_result",
          "data": {
            "text/plain": [
              "[('mother', 0.7804487943649292),\n",
              " ('wife', 0.776812732219696),\n",
              " ('husband', 0.7620337009429932),\n",
              " ('sister', 0.7574506998062134),\n",
              " ('daughter', 0.7545719742774963),\n",
              " ('brother', 0.7241369485855103),\n",
              " ('Rachel', 0.6826387643814087),\n",
              " ('Tamar', 0.6804218292236328),\n",
              " ('child', 0.6785721778869629),\n",
              " ('Sarai', 0.6742565035820007)]"
            ]
          },
          "metadata": {
            "tags": []
          },
          "execution_count": 33
        }
      ]
    },
    {
      "cell_type": "code",
      "metadata": {
        "colab": {
          "base_uri": "https://localhost:8080/"
        },
        "id": "i2MDzc9fUuUL",
        "outputId": "36351cc0-c459-4798-bcef-e8797d5ccd9c"
      },
      "source": [
        "model.wv.most_similar(positive=['son', 'woman'], negative=['man'])"
      ],
      "execution_count": null,
      "outputs": [
        {
          "output_type": "execute_result",
          "data": {
            "text/plain": [
              "[('wife', 0.7315358519554138),\n",
              " ('daughter', 0.7298749089241028),\n",
              " ('Leah', 0.7172065377235413),\n",
              " ('Sarai', 0.7135816812515259),\n",
              " ('Bethuel', 0.7105062007904053),\n",
              " ('Sarah', 0.7087455987930298),\n",
              " ('Hagar', 0.7039390802383423),\n",
              " ('Rachel', 0.6974040865898132),\n",
              " ('conceived', 0.6948695778846741),\n",
              " ('Abram', 0.6919147372245789)]"
            ]
          },
          "metadata": {
            "tags": []
          },
          "execution_count": 34
        }
      ]
    },
    {
      "cell_type": "code",
      "metadata": {
        "colab": {
          "base_uri": "https://localhost:8080/"
        },
        "id": "fOgbBBrRVX_E",
        "outputId": "5d366d37-fa83-4133-b9ac-c82595cbe630"
      },
      "source": [
        "model.wv.most_similar(positive=['husband', 'woman'], negative= ['man'])"
      ],
      "execution_count": null,
      "outputs": [
        {
          "output_type": "execute_result",
          "data": {
            "text/plain": [
              "[('wife', 0.7411867380142212),\n",
              " ('sister', 0.6907098889350891),\n",
              " ('mother', 0.6808767914772034),\n",
              " ('conceived', 0.6805608868598938),\n",
              " ('daughter', 0.6778602600097656),\n",
              " ('child', 0.6749604940414429),\n",
              " ('widow', 0.6532807350158691),\n",
              " ('maid', 0.64496910572052),\n",
              " ('nurse', 0.633793830871582),\n",
              " ('adultery', 0.6286718249320984)]"
            ]
          },
          "metadata": {
            "tags": []
          },
          "execution_count": 35
        }
      ]
    },
    {
      "cell_type": "code",
      "metadata": {
        "colab": {
          "base_uri": "https://localhost:8080/"
        },
        "id": "yq_g0cSEV7dl",
        "outputId": "7e1d755d-ab32-42a3-d61b-9652fa93be8b"
      },
      "source": [
        "model.wv.most_similar(positive=['king', 'woman'], negative=['man'], topn=30)"
      ],
      "execution_count": null,
      "outputs": [
        {
          "output_type": "execute_result",
          "data": {
            "text/plain": [
              "[('Rachel', 0.6771907806396484),\n",
              " ('Sarah', 0.6688170433044434),\n",
              " ('Babylon', 0.6573801636695862),\n",
              " ('Leah', 0.6569687128067017),\n",
              " ('daughter', 0.6541973948478699),\n",
              " ('Solomon', 0.6514551639556885),\n",
              " ('Judah', 0.6482703685760498),\n",
              " ('David', 0.6478943824768066),\n",
              " ('Sarai', 0.6450138092041016),\n",
              " ('Abram', 0.6445779800415039),\n",
              " ('Padanaram', 0.6422224640846252),\n",
              " ('Laban', 0.640700101852417),\n",
              " ('queen', 0.6355904936790466),\n",
              " ('Bethuel', 0.6308280229568481),\n",
              " ('Vashti', 0.6280956268310547),\n",
              " ('Hanun', 0.6271393299102783),\n",
              " ('household', 0.6219233274459839),\n",
              " ('Rahab', 0.6214480400085449),\n",
              " ('Ephron', 0.6184583306312561),\n",
              " ('servants', 0.6169059872627258),\n",
              " ('Hagar', 0.6169013977050781),\n",
              " ('Esther', 0.6162646412849426),\n",
              " ('Onan', 0.6161724925041199),\n",
              " ('conceived', 0.612637460231781),\n",
              " ('Cain', 0.61234050989151),\n",
              " ('Lot', 0.6121366620063782),\n",
              " ('tribute', 0.6118837594985962),\n",
              " ('Bilhah', 0.6099321842193604),\n",
              " ('Hamor', 0.6080735325813293),\n",
              " ('Rebekah', 0.6077944040298462)]"
            ]
          },
          "metadata": {
            "tags": []
          },
          "execution_count": 36
        }
      ]
    },
    {
      "cell_type": "code",
      "metadata": {
        "id": "pLypucKyWk6O"
      },
      "source": [
        "# impressive for such a small data set, without any cleaning, e.g., to lower case (covered next)"
      ],
      "execution_count": null,
      "outputs": []
    },
    {
      "cell_type": "markdown",
      "metadata": {
        "id": "M3CSSY9PW3aL"
      },
      "source": [
        "**Reduce word vector dimensionality with t-SNE**"
      ]
    },
    {
      "cell_type": "code",
      "metadata": {
        "colab": {
          "base_uri": "https://localhost:8080/"
        },
        "id": "sJjzWP8UWzJK",
        "outputId": "7eaf573a-5dda-47a5-8051-db98ec341e80"
      },
      "source": [
        "len(model.wv.vocab)"
      ],
      "execution_count": null,
      "outputs": [
        {
          "output_type": "execute_result",
          "data": {
            "text/plain": [
              "17011"
            ]
          },
          "metadata": {
            "tags": []
          },
          "execution_count": 38
        }
      ]
    },
    {
      "cell_type": "code",
      "metadata": {
        "id": "AcPLnx7zXEIF"
      },
      "source": [
        "X = model.wv[model.wv.vocab]"
      ],
      "execution_count": null,
      "outputs": []
    },
    {
      "cell_type": "code",
      "metadata": {
        "id": "Xe9t4A86XOiK"
      },
      "source": [
        "tsne = TSNE(n_components=2, n_iter= 1000) # 200 is minimum iter; default is 1000"
      ],
      "execution_count": null,
      "outputs": []
    },
    {
      "cell_type": "code",
      "metadata": {
        "id": "I2OoeIBtXy0V"
      },
      "source": [
        "X_2nd = tsne.fit_transform(X) #transforming 64 dimensions to 2, would be X_2nd or simply X_2d"
      ],
      "execution_count": null,
      "outputs": []
    },
    {
      "cell_type": "code",
      "metadata": {
        "colab": {
          "base_uri": "https://localhost:8080/"
        },
        "id": "yD0YQgZGYa1H",
        "outputId": "31e75b06-2ada-467c-ca6f-3a064b638ad1"
      },
      "source": [
        "X_2nd[0:5]"
      ],
      "execution_count": null,
      "outputs": [
        {
          "output_type": "execute_result",
          "data": {
            "text/plain": [
              "array([[-44.524197, -35.81803 ],\n",
              "       [ 11.805072, -61.097305],\n",
              "       [ 33.176964, -12.027263],\n",
              "       [ 14.915606, -61.707603],\n",
              "       [-44.477802, -35.744102]], dtype=float32)"
            ]
          },
          "metadata": {
            "tags": []
          },
          "execution_count": 42
        }
      ]
    },
    {
      "cell_type": "code",
      "metadata": {
        "id": "Kd4mm3dNYjmE"
      },
      "source": [
        "# create DataFrame for storing results and plotting\n",
        "coords_df = pd.DataFrame(X_2nd, columns=['x','y'])\n",
        "coords_df['token'] = model.wv.vocab.keys()"
      ],
      "execution_count": null,
      "outputs": []
    },
    {
      "cell_type": "code",
      "metadata": {
        "colab": {
          "base_uri": "https://localhost:8080/"
        },
        "id": "dvQBcSlSZN52",
        "outputId": "7c4f1599-ba5a-4dcb-f57e-1d7f6a784923"
      },
      "source": [
        "coords_df.head()"
      ],
      "execution_count": null,
      "outputs": [
        {
          "output_type": "execute_result",
          "data": {
            "text/html": [
              "<div>\n",
              "<style scoped>\n",
              "    .dataframe tbody tr th:only-of-type {\n",
              "        vertical-align: middle;\n",
              "    }\n",
              "\n",
              "    .dataframe tbody tr th {\n",
              "        vertical-align: top;\n",
              "    }\n",
              "\n",
              "    .dataframe thead th {\n",
              "        text-align: right;\n",
              "    }\n",
              "</style>\n",
              "<table border=\"1\" class=\"dataframe\">\n",
              "  <thead>\n",
              "    <tr style=\"text-align: right;\">\n",
              "      <th></th>\n",
              "      <th>x</th>\n",
              "      <th>y</th>\n",
              "      <th>token</th>\n",
              "    </tr>\n",
              "  </thead>\n",
              "  <tbody>\n",
              "    <tr>\n",
              "      <th>0</th>\n",
              "      <td>-44.524197</td>\n",
              "      <td>-35.818031</td>\n",
              "      <td>[</td>\n",
              "    </tr>\n",
              "    <tr>\n",
              "      <th>1</th>\n",
              "      <td>11.805072</td>\n",
              "      <td>-61.097305</td>\n",
              "      <td>Emma</td>\n",
              "    </tr>\n",
              "    <tr>\n",
              "      <th>2</th>\n",
              "      <td>33.176964</td>\n",
              "      <td>-12.027263</td>\n",
              "      <td>by</td>\n",
              "    </tr>\n",
              "    <tr>\n",
              "      <th>3</th>\n",
              "      <td>14.915606</td>\n",
              "      <td>-61.707603</td>\n",
              "      <td>Jane</td>\n",
              "    </tr>\n",
              "    <tr>\n",
              "      <th>4</th>\n",
              "      <td>-44.477802</td>\n",
              "      <td>-35.744102</td>\n",
              "      <td>]</td>\n",
              "    </tr>\n",
              "  </tbody>\n",
              "</table>\n",
              "</div>"
            ],
            "text/plain": [
              "           x          y token\n",
              "0 -44.524197 -35.818031     [\n",
              "1  11.805072 -61.097305  Emma\n",
              "2  33.176964 -12.027263    by\n",
              "3  14.915606 -61.707603  Jane\n",
              "4 -44.477802 -35.744102     ]"
            ]
          },
          "metadata": {
            "tags": []
          },
          "execution_count": 44
        }
      ]
    },
    {
      "cell_type": "code",
      "metadata": {
        "id": "s8-6XYfpZjCE"
      },
      "source": [
        "coords_df.to_csv('raw_gutenberg_tsne.csv', index=False)"
      ],
      "execution_count": null,
      "outputs": []
    },
    {
      "cell_type": "markdown",
      "metadata": {
        "id": "4P2xt9avaHRd"
      },
      "source": [
        "**Visualize 2D representation of word vectors**"
      ]
    },
    {
      "cell_type": "code",
      "metadata": {
        "id": "G1UMIoayZ-do"
      },
      "source": [
        "coords_df = pd.read_csv('raw_gutenberg_tsne.csv')"
      ],
      "execution_count": null,
      "outputs": []
    },
    {
      "cell_type": "code",
      "metadata": {
        "id": "GpkgVp72abOX"
      },
      "source": [
        "output_notebook() #output bokeh plots inline in notebook"
      ],
      "execution_count": null,
      "outputs": []
    },
    {
      "cell_type": "code",
      "metadata": {
        "id": "p-QvdKksalo1"
      },
      "source": [
        "subset_df = coords_df.sample(n = 5000)"
      ],
      "execution_count": null,
      "outputs": []
    },
    {
      "cell_type": "code",
      "metadata": {
        "id": "Fk4_47YTazVv"
      },
      "source": [
        "p = figure(plot_width=800, plot_height=800)\n",
        "_ = p.text(x=subset_df.x, y= subset_df.y, text=subset_df.token)"
      ],
      "execution_count": null,
      "outputs": []
    },
    {
      "cell_type": "code",
      "metadata": {
        "id": "GfJByjyXbUcr",
        "colab": {
          "base_uri": "https://localhost:8080/",
          "height": 817
        },
        "outputId": "cc1dc1b6-d7f9-45d7-f502-dc435574a496"
      },
      "source": [
        "show(p)"
      ],
      "execution_count": null,
      "outputs": [
        {
          "output_type": "display_data",
          "data": {
            "application/javascript": [
              "\n",
              "(function(root) {\n",
              "  function now() {\n",
              "    return new Date();\n",
              "  }\n",
              "\n",
              "  var force = true;\n",
              "\n",
              "  if (typeof root._bokeh_onload_callbacks === \"undefined\" || force === true) {\n",
              "    root._bokeh_onload_callbacks = [];\n",
              "    root._bokeh_is_loading = undefined;\n",
              "  }\n",
              "\n",
              "  var JS_MIME_TYPE = 'application/javascript';\n",
              "  var HTML_MIME_TYPE = 'text/html';\n",
              "  var EXEC_MIME_TYPE = 'application/vnd.bokehjs_exec.v0+json';\n",
              "  var CLASS_NAME = 'output_bokeh rendered_html';\n",
              "\n",
              "  /**\n",
              "   * Render data to the DOM node\n",
              "   */\n",
              "  function render(props, node) {\n",
              "    var script = document.createElement(\"script\");\n",
              "    node.appendChild(script);\n",
              "  }\n",
              "\n",
              "  /**\n",
              "   * Handle when an output is cleared or removed\n",
              "   */\n",
              "  function handleClearOutput(event, handle) {\n",
              "    var cell = handle.cell;\n",
              "\n",
              "    var id = cell.output_area._bokeh_element_id;\n",
              "    var server_id = cell.output_area._bokeh_server_id;\n",
              "    // Clean up Bokeh references\n",
              "    if (id != null && id in Bokeh.index) {\n",
              "      Bokeh.index[id].model.document.clear();\n",
              "      delete Bokeh.index[id];\n",
              "    }\n",
              "\n",
              "    if (server_id !== undefined) {\n",
              "      // Clean up Bokeh references\n",
              "      var cmd = \"from bokeh.io.state import curstate; print(curstate().uuid_to_server['\" + server_id + \"'].get_sessions()[0].document.roots[0]._id)\";\n",
              "      cell.notebook.kernel.execute(cmd, {\n",
              "        iopub: {\n",
              "          output: function(msg) {\n",
              "            var id = msg.content.text.trim();\n",
              "            if (id in Bokeh.index) {\n",
              "              Bokeh.index[id].model.document.clear();\n",
              "              delete Bokeh.index[id];\n",
              "            }\n",
              "          }\n",
              "        }\n",
              "      });\n",
              "      // Destroy server and session\n",
              "      var cmd = \"import bokeh.io.notebook as ion; ion.destroy_server('\" + server_id + \"')\";\n",
              "      cell.notebook.kernel.execute(cmd);\n",
              "    }\n",
              "  }\n",
              "\n",
              "  /**\n",
              "   * Handle when a new output is added\n",
              "   */\n",
              "  function handleAddOutput(event, handle) {\n",
              "    var output_area = handle.output_area;\n",
              "    var output = handle.output;\n",
              "\n",
              "    // limit handleAddOutput to display_data with EXEC_MIME_TYPE content only\n",
              "    if ((output.output_type != \"display_data\") || (!Object.prototype.hasOwnProperty.call(output.data, EXEC_MIME_TYPE))) {\n",
              "      return\n",
              "    }\n",
              "\n",
              "    var toinsert = output_area.element.find(\".\" + CLASS_NAME.split(' ')[0]);\n",
              "\n",
              "    if (output.metadata[EXEC_MIME_TYPE][\"id\"] !== undefined) {\n",
              "      toinsert[toinsert.length - 1].firstChild.textContent = output.data[JS_MIME_TYPE];\n",
              "      // store reference to embed id on output_area\n",
              "      output_area._bokeh_element_id = output.metadata[EXEC_MIME_TYPE][\"id\"];\n",
              "    }\n",
              "    if (output.metadata[EXEC_MIME_TYPE][\"server_id\"] !== undefined) {\n",
              "      var bk_div = document.createElement(\"div\");\n",
              "      bk_div.innerHTML = output.data[HTML_MIME_TYPE];\n",
              "      var script_attrs = bk_div.children[0].attributes;\n",
              "      for (var i = 0; i < script_attrs.length; i++) {\n",
              "        toinsert[toinsert.length - 1].firstChild.setAttribute(script_attrs[i].name, script_attrs[i].value);\n",
              "        toinsert[toinsert.length - 1].firstChild.textContent = bk_div.children[0].textContent\n",
              "      }\n",
              "      // store reference to server id on output_area\n",
              "      output_area._bokeh_server_id = output.metadata[EXEC_MIME_TYPE][\"server_id\"];\n",
              "    }\n",
              "  }\n",
              "\n",
              "  function register_renderer(events, OutputArea) {\n",
              "\n",
              "    function append_mime(data, metadata, element) {\n",
              "      // create a DOM node to render to\n",
              "      var toinsert = this.create_output_subarea(\n",
              "        metadata,\n",
              "        CLASS_NAME,\n",
              "        EXEC_MIME_TYPE\n",
              "      );\n",
              "      this.keyboard_manager.register_events(toinsert);\n",
              "      // Render to node\n",
              "      var props = {data: data, metadata: metadata[EXEC_MIME_TYPE]};\n",
              "      render(props, toinsert[toinsert.length - 1]);\n",
              "      element.append(toinsert);\n",
              "      return toinsert\n",
              "    }\n",
              "\n",
              "    /* Handle when an output is cleared or removed */\n",
              "    events.on('clear_output.CodeCell', handleClearOutput);\n",
              "    events.on('delete.Cell', handleClearOutput);\n",
              "\n",
              "    /* Handle when a new output is added */\n",
              "    events.on('output_added.OutputArea', handleAddOutput);\n",
              "\n",
              "    /**\n",
              "     * Register the mime type and append_mime function with output_area\n",
              "     */\n",
              "    OutputArea.prototype.register_mime_type(EXEC_MIME_TYPE, append_mime, {\n",
              "      /* Is output safe? */\n",
              "      safe: true,\n",
              "      /* Index of renderer in `output_area.display_order` */\n",
              "      index: 0\n",
              "    });\n",
              "  }\n",
              "\n",
              "  // register the mime type if in Jupyter Notebook environment and previously unregistered\n",
              "  if (root.Jupyter !== undefined) {\n",
              "    var events = require('base/js/events');\n",
              "    var OutputArea = require('notebook/js/outputarea').OutputArea;\n",
              "\n",
              "    if (OutputArea.prototype.mime_types().indexOf(EXEC_MIME_TYPE) == -1) {\n",
              "      register_renderer(events, OutputArea);\n",
              "    }\n",
              "  }\n",
              "\n",
              "  \n",
              "  if (typeof (root._bokeh_timeout) === \"undefined\" || force === true) {\n",
              "    root._bokeh_timeout = Date.now() + 5000;\n",
              "    root._bokeh_failed_load = false;\n",
              "  }\n",
              "\n",
              "  var NB_LOAD_WARNING = {'data': {'text/html':\n",
              "     \"<div style='background-color: #fdd'>\\n\"+\n",
              "     \"<p>\\n\"+\n",
              "     \"BokehJS does not appear to have successfully loaded. If loading BokehJS from CDN, this \\n\"+\n",
              "     \"may be due to a slow or bad network connection. Possible fixes:\\n\"+\n",
              "     \"</p>\\n\"+\n",
              "     \"<ul>\\n\"+\n",
              "     \"<li>re-rerun `output_notebook()` to attempt to load from CDN again, or</li>\\n\"+\n",
              "     \"<li>use INLINE resources instead, as so:</li>\\n\"+\n",
              "     \"</ul>\\n\"+\n",
              "     \"<code>\\n\"+\n",
              "     \"from bokeh.resources import INLINE\\n\"+\n",
              "     \"output_notebook(resources=INLINE)\\n\"+\n",
              "     \"</code>\\n\"+\n",
              "     \"</div>\"}};\n",
              "\n",
              "  function display_loaded() {\n",
              "    var el = document.getElementById(null);\n",
              "    if (el != null) {\n",
              "      el.textContent = \"BokehJS is loading...\";\n",
              "    }\n",
              "    if (root.Bokeh !== undefined) {\n",
              "      if (el != null) {\n",
              "        el.textContent = \"BokehJS \" + root.Bokeh.version + \" successfully loaded.\";\n",
              "      }\n",
              "    } else if (Date.now() < root._bokeh_timeout) {\n",
              "      setTimeout(display_loaded, 100)\n",
              "    }\n",
              "  }\n",
              "\n",
              "\n",
              "  function run_callbacks() {\n",
              "    try {\n",
              "      root._bokeh_onload_callbacks.forEach(function(callback) {\n",
              "        if (callback != null)\n",
              "          callback();\n",
              "      });\n",
              "    } finally {\n",
              "      delete root._bokeh_onload_callbacks\n",
              "    }\n",
              "    console.debug(\"Bokeh: all callbacks have finished\");\n",
              "  }\n",
              "\n",
              "  function load_libs(css_urls, js_urls, callback) {\n",
              "    if (css_urls == null) css_urls = [];\n",
              "    if (js_urls == null) js_urls = [];\n",
              "\n",
              "    root._bokeh_onload_callbacks.push(callback);\n",
              "    if (root._bokeh_is_loading > 0) {\n",
              "      console.debug(\"Bokeh: BokehJS is being loaded, scheduling callback at\", now());\n",
              "      return null;\n",
              "    }\n",
              "    if (js_urls == null || js_urls.length === 0) {\n",
              "      run_callbacks();\n",
              "      return null;\n",
              "    }\n",
              "    console.debug(\"Bokeh: BokehJS not loaded, scheduling load and callback at\", now());\n",
              "    root._bokeh_is_loading = css_urls.length + js_urls.length;\n",
              "\n",
              "    function on_load() {\n",
              "      root._bokeh_is_loading--;\n",
              "      if (root._bokeh_is_loading === 0) {\n",
              "        console.debug(\"Bokeh: all BokehJS libraries/stylesheets loaded\");\n",
              "        run_callbacks()\n",
              "      }\n",
              "    }\n",
              "\n",
              "    function on_error(url) {\n",
              "      console.error(\"failed to load \" + url);\n",
              "    }\n",
              "\n",
              "    for (let i = 0; i < css_urls.length; i++) {\n",
              "      const url = css_urls[i];\n",
              "      const element = document.createElement(\"link\");\n",
              "      element.onload = on_load;\n",
              "      element.onerror = on_error.bind(null, url);\n",
              "      element.rel = \"stylesheet\";\n",
              "      element.type = \"text/css\";\n",
              "      element.href = url;\n",
              "      console.debug(\"Bokeh: injecting link tag for BokehJS stylesheet: \", url);\n",
              "      document.body.appendChild(element);\n",
              "    }\n",
              "\n",
              "    const hashes = {\"https://cdn.bokeh.org/bokeh/release/bokeh-2.3.3.min.js\": \"dM3QQsP+wXdHg42wTqW85BjZQdLNNIXqlPw/BgKoExPmTG7ZLML4EGqLMfqHT6ON\", \"https://cdn.bokeh.org/bokeh/release/bokeh-tables-2.3.3.min.js\": \"8x57I4YuIfu8XyZfFo0XVr2WAT8EK4rh/uDe3wF7YuW2FNUSNEpJbsPaB1nJ2fz2\", \"https://cdn.bokeh.org/bokeh/release/bokeh-widgets-2.3.3.min.js\": \"3QTqdz9LyAm2i0sG5XTePsHec3UHWwVsrOL68SYRoAXsafvfAyqtQ+h440+qIBhS\"};\n",
              "\n",
              "    for (let i = 0; i < js_urls.length; i++) {\n",
              "      const url = js_urls[i];\n",
              "      const element = document.createElement('script');\n",
              "      element.onload = on_load;\n",
              "      element.onerror = on_error.bind(null, url);\n",
              "      element.async = false;\n",
              "      element.src = url;\n",
              "      if (url in hashes) {\n",
              "        element.crossOrigin = \"anonymous\";\n",
              "        element.integrity = \"sha384-\" + hashes[url];\n",
              "      }\n",
              "      console.debug(\"Bokeh: injecting script tag for BokehJS library: \", url);\n",
              "      document.head.appendChild(element);\n",
              "    }\n",
              "  };\n",
              "\n",
              "  function inject_raw_css(css) {\n",
              "    const element = document.createElement(\"style\");\n",
              "    element.appendChild(document.createTextNode(css));\n",
              "    document.body.appendChild(element);\n",
              "  }\n",
              "\n",
              "  \n",
              "  var js_urls = [\"https://cdn.bokeh.org/bokeh/release/bokeh-2.3.3.min.js\", \"https://cdn.bokeh.org/bokeh/release/bokeh-widgets-2.3.3.min.js\", \"https://cdn.bokeh.org/bokeh/release/bokeh-tables-2.3.3.min.js\"];\n",
              "  var css_urls = [];\n",
              "  \n",
              "\n",
              "  var inline_js = [\n",
              "    function(Bokeh) {\n",
              "      Bokeh.set_log_level(\"info\");\n",
              "    },\n",
              "    function(Bokeh) {\n",
              "    \n",
              "    \n",
              "    }\n",
              "  ];\n",
              "\n",
              "  function run_inline_js() {\n",
              "    \n",
              "    if (root.Bokeh !== undefined || force === true) {\n",
              "      \n",
              "    for (var i = 0; i < inline_js.length; i++) {\n",
              "      inline_js[i].call(root, root.Bokeh);\n",
              "    }\n",
              "    } else if (Date.now() < root._bokeh_timeout) {\n",
              "      setTimeout(run_inline_js, 100);\n",
              "    } else if (!root._bokeh_failed_load) {\n",
              "      console.log(\"Bokeh: BokehJS failed to load within specified timeout.\");\n",
              "      root._bokeh_failed_load = true;\n",
              "    } else if (force !== true) {\n",
              "      var cell = $(document.getElementById(null)).parents('.cell').data().cell;\n",
              "      cell.output_area.append_execute_result(NB_LOAD_WARNING)\n",
              "    }\n",
              "\n",
              "  }\n",
              "\n",
              "  if (root._bokeh_is_loading === 0) {\n",
              "    console.debug(\"Bokeh: BokehJS loaded, going straight to plotting\");\n",
              "    run_inline_js();\n",
              "  } else {\n",
              "    load_libs(css_urls, js_urls, function() {\n",
              "      console.debug(\"Bokeh: BokehJS plotting callback run at\", now());\n",
              "      run_inline_js();\n",
              "    });\n",
              "  }\n",
              "}(window));"
            ],
            "application/vnd.bokehjs_load.v0+json": "\n(function(root) {\n  function now() {\n    return new Date();\n  }\n\n  var force = true;\n\n  if (typeof root._bokeh_onload_callbacks === \"undefined\" || force === true) {\n    root._bokeh_onload_callbacks = [];\n    root._bokeh_is_loading = undefined;\n  }\n\n  \n\n  \n  if (typeof (root._bokeh_timeout) === \"undefined\" || force === true) {\n    root._bokeh_timeout = Date.now() + 5000;\n    root._bokeh_failed_load = false;\n  }\n\n  var NB_LOAD_WARNING = {'data': {'text/html':\n     \"<div style='background-color: #fdd'>\\n\"+\n     \"<p>\\n\"+\n     \"BokehJS does not appear to have successfully loaded. If loading BokehJS from CDN, this \\n\"+\n     \"may be due to a slow or bad network connection. Possible fixes:\\n\"+\n     \"</p>\\n\"+\n     \"<ul>\\n\"+\n     \"<li>re-rerun `output_notebook()` to attempt to load from CDN again, or</li>\\n\"+\n     \"<li>use INLINE resources instead, as so:</li>\\n\"+\n     \"</ul>\\n\"+\n     \"<code>\\n\"+\n     \"from bokeh.resources import INLINE\\n\"+\n     \"output_notebook(resources=INLINE)\\n\"+\n     \"</code>\\n\"+\n     \"</div>\"}};\n\n  function display_loaded() {\n    var el = document.getElementById(null);\n    if (el != null) {\n      el.textContent = \"BokehJS is loading...\";\n    }\n    if (root.Bokeh !== undefined) {\n      if (el != null) {\n        el.textContent = \"BokehJS \" + root.Bokeh.version + \" successfully loaded.\";\n      }\n    } else if (Date.now() < root._bokeh_timeout) {\n      setTimeout(display_loaded, 100)\n    }\n  }\n\n\n  function run_callbacks() {\n    try {\n      root._bokeh_onload_callbacks.forEach(function(callback) {\n        if (callback != null)\n          callback();\n      });\n    } finally {\n      delete root._bokeh_onload_callbacks\n    }\n    console.debug(\"Bokeh: all callbacks have finished\");\n  }\n\n  function load_libs(css_urls, js_urls, callback) {\n    if (css_urls == null) css_urls = [];\n    if (js_urls == null) js_urls = [];\n\n    root._bokeh_onload_callbacks.push(callback);\n    if (root._bokeh_is_loading > 0) {\n      console.debug(\"Bokeh: BokehJS is being loaded, scheduling callback at\", now());\n      return null;\n    }\n    if (js_urls == null || js_urls.length === 0) {\n      run_callbacks();\n      return null;\n    }\n    console.debug(\"Bokeh: BokehJS not loaded, scheduling load and callback at\", now());\n    root._bokeh_is_loading = css_urls.length + js_urls.length;\n\n    function on_load() {\n      root._bokeh_is_loading--;\n      if (root._bokeh_is_loading === 0) {\n        console.debug(\"Bokeh: all BokehJS libraries/stylesheets loaded\");\n        run_callbacks()\n      }\n    }\n\n    function on_error(url) {\n      console.error(\"failed to load \" + url);\n    }\n\n    for (let i = 0; i < css_urls.length; i++) {\n      const url = css_urls[i];\n      const element = document.createElement(\"link\");\n      element.onload = on_load;\n      element.onerror = on_error.bind(null, url);\n      element.rel = \"stylesheet\";\n      element.type = \"text/css\";\n      element.href = url;\n      console.debug(\"Bokeh: injecting link tag for BokehJS stylesheet: \", url);\n      document.body.appendChild(element);\n    }\n\n    const hashes = {\"https://cdn.bokeh.org/bokeh/release/bokeh-2.3.3.min.js\": \"dM3QQsP+wXdHg42wTqW85BjZQdLNNIXqlPw/BgKoExPmTG7ZLML4EGqLMfqHT6ON\", \"https://cdn.bokeh.org/bokeh/release/bokeh-tables-2.3.3.min.js\": \"8x57I4YuIfu8XyZfFo0XVr2WAT8EK4rh/uDe3wF7YuW2FNUSNEpJbsPaB1nJ2fz2\", \"https://cdn.bokeh.org/bokeh/release/bokeh-widgets-2.3.3.min.js\": \"3QTqdz9LyAm2i0sG5XTePsHec3UHWwVsrOL68SYRoAXsafvfAyqtQ+h440+qIBhS\"};\n\n    for (let i = 0; i < js_urls.length; i++) {\n      const url = js_urls[i];\n      const element = document.createElement('script');\n      element.onload = on_load;\n      element.onerror = on_error.bind(null, url);\n      element.async = false;\n      element.src = url;\n      if (url in hashes) {\n        element.crossOrigin = \"anonymous\";\n        element.integrity = \"sha384-\" + hashes[url];\n      }\n      console.debug(\"Bokeh: injecting script tag for BokehJS library: \", url);\n      document.head.appendChild(element);\n    }\n  };\n\n  function inject_raw_css(css) {\n    const element = document.createElement(\"style\");\n    element.appendChild(document.createTextNode(css));\n    document.body.appendChild(element);\n  }\n\n  \n  var js_urls = [\"https://cdn.bokeh.org/bokeh/release/bokeh-2.3.3.min.js\", \"https://cdn.bokeh.org/bokeh/release/bokeh-widgets-2.3.3.min.js\", \"https://cdn.bokeh.org/bokeh/release/bokeh-tables-2.3.3.min.js\"];\n  var css_urls = [];\n  \n\n  var inline_js = [\n    function(Bokeh) {\n      Bokeh.set_log_level(\"info\");\n    },\n    function(Bokeh) {\n    \n    \n    }\n  ];\n\n  function run_inline_js() {\n    \n    if (root.Bokeh !== undefined || force === true) {\n      \n    for (var i = 0; i < inline_js.length; i++) {\n      inline_js[i].call(root, root.Bokeh);\n    }\n    } else if (Date.now() < root._bokeh_timeout) {\n      setTimeout(run_inline_js, 100);\n    } else if (!root._bokeh_failed_load) {\n      console.log(\"Bokeh: BokehJS failed to load within specified timeout.\");\n      root._bokeh_failed_load = true;\n    } else if (force !== true) {\n      var cell = $(document.getElementById(null)).parents('.cell').data().cell;\n      cell.output_area.append_execute_result(NB_LOAD_WARNING)\n    }\n\n  }\n\n  if (root._bokeh_is_loading === 0) {\n    console.debug(\"Bokeh: BokehJS loaded, going straight to plotting\");\n    run_inline_js();\n  } else {\n    load_libs(css_urls, js_urls, function() {\n      console.debug(\"Bokeh: BokehJS plotting callback run at\", now());\n      run_inline_js();\n    });\n  }\n}(window));"
          },
          "metadata": {
            "tags": []
          }
        },
        {
          "output_type": "display_data",
          "data": {
            "text/html": [
              "\n",
              "\n",
              "\n",
              "\n",
              "\n",
              "\n",
              "  <div class=\"bk-root\" id=\"afcea71f-3d99-4465-bf89-af37581f14a2\" data-root-id=\"1002\"></div>\n"
            ]
          },
          "metadata": {
            "tags": []
          }
        },
        {
          "output_type": "display_data",
          "data": {
            "application/javascript": [
              "(function(root) {\n",
              "  function embed_document(root) {\n",
              "    \n",
              "  var docs_json = {\"cf3a20a4-8290-4722-91d0-72bb48b3a68f\":{\"defs\":[],\"roots\":{\"references\":[{\"attributes\":{\"below\":[{\"id\":\"1011\"}],\"center\":[{\"id\":\"1014\"},{\"id\":\"1018\"}],\"height\":800,\"left\":[{\"id\":\"1015\"}],\"renderers\":[{\"id\":\"1036\"}],\"title\":{\"id\":\"1038\"},\"toolbar\":{\"id\":\"1026\"},\"width\":800,\"x_range\":{\"id\":\"1003\"},\"x_scale\":{\"id\":\"1007\"},\"y_range\":{\"id\":\"1005\"},\"y_scale\":{\"id\":\"1009\"}},\"id\":\"1002\",\"subtype\":\"Figure\",\"type\":\"Plot\"},{\"attributes\":{},\"id\":\"1040\",\"type\":\"BasicTickFormatter\"},{\"attributes\":{},\"id\":\"1043\",\"type\":\"BasicTickFormatter\"},{\"attributes\":{\"active_multi\":null,\"tools\":[{\"id\":\"1019\"},{\"id\":\"1020\"},{\"id\":\"1021\"},{\"id\":\"1022\"},{\"id\":\"1023\"},{\"id\":\"1024\"}]},\"id\":\"1026\",\"type\":\"Toolbar\"},{\"attributes\":{},\"id\":\"1016\",\"type\":\"BasicTicker\"},{\"attributes\":{},\"id\":\"1012\",\"type\":\"BasicTicker\"},{\"attributes\":{\"axis\":{\"id\":\"1011\"},\"ticker\":null},\"id\":\"1014\",\"type\":\"Grid\"},{\"attributes\":{},\"id\":\"1020\",\"type\":\"WheelZoomTool\"},{\"attributes\":{},\"id\":\"1038\",\"type\":\"Title\"},{\"attributes\":{\"text_alpha\":{\"value\":0.1},\"text_color\":{\"value\":\"black\"},\"x\":{\"field\":\"x\"},\"y\":{\"field\":\"y\"}},\"id\":\"1035\",\"type\":\"Text\"},{\"attributes\":{},\"id\":\"1019\",\"type\":\"PanTool\"},{\"attributes\":{\"data_source\":{\"id\":\"1033\"},\"glyph\":{\"id\":\"1034\"},\"hover_glyph\":null,\"muted_glyph\":null,\"nonselection_glyph\":{\"id\":\"1035\"},\"view\":{\"id\":\"1037\"}},\"id\":\"1036\",\"type\":\"GlyphRenderer\"},{\"attributes\":{},\"id\":\"1022\",\"type\":\"SaveTool\"},{\"attributes\":{\"formatter\":{\"id\":\"1040\"},\"major_label_policy\":{\"id\":\"1042\"},\"ticker\":{\"id\":\"1012\"}},\"id\":\"1011\",\"type\":\"LinearAxis\"},{\"attributes\":{},\"id\":\"1003\",\"type\":\"DataRange1d\"},{\"attributes\":{},\"id\":\"1047\",\"type\":\"UnionRenderers\"},{\"attributes\":{\"bottom_units\":\"screen\",\"fill_alpha\":0.5,\"fill_color\":\"lightgrey\",\"left_units\":\"screen\",\"level\":\"overlay\",\"line_alpha\":1.0,\"line_color\":\"black\",\"line_dash\":[4,4],\"line_width\":2,\"right_units\":\"screen\",\"syncable\":false,\"top_units\":\"screen\"},\"id\":\"1025\",\"type\":\"BoxAnnotation\"},{\"attributes\":{},\"id\":\"1009\",\"type\":\"LinearScale\"},{\"attributes\":{\"overlay\":{\"id\":\"1025\"}},\"id\":\"1021\",\"type\":\"BoxZoomTool\"},{\"attributes\":{\"axis\":{\"id\":\"1015\"},\"dimension\":1,\"ticker\":null},\"id\":\"1018\",\"type\":\"Grid\"},{\"attributes\":{},\"id\":\"1023\",\"type\":\"ResetTool\"},{\"attributes\":{},\"id\":\"1024\",\"type\":\"HelpTool\"},{\"attributes\":{},\"id\":\"1046\",\"type\":\"Selection\"},{\"attributes\":{},\"id\":\"1042\",\"type\":\"AllLabels\"},{\"attributes\":{\"text_color\":{\"value\":\"black\"},\"x\":{\"field\":\"x\"},\"y\":{\"field\":\"y\"}},\"id\":\"1034\",\"type\":\"Text\"},{\"attributes\":{\"formatter\":{\"id\":\"1043\"},\"major_label_policy\":{\"id\":\"1045\"},\"ticker\":{\"id\":\"1016\"}},\"id\":\"1015\",\"type\":\"LinearAxis\"},{\"attributes\":{},\"id\":\"1005\",\"type\":\"DataRange1d\"},{\"attributes\":{},\"id\":\"1045\",\"type\":\"AllLabels\"},{\"attributes\":{},\"id\":\"1007\",\"type\":\"LinearScale\"},{\"attributes\":{\"source\":{\"id\":\"1033\"}},\"id\":\"1037\",\"type\":\"CDSView\"},{\"attributes\":{\"data\":{\"text\":[\"States\",\"tasted\",\"concubine\",\"spouted\",\"hew\",\"footpath\",\"Orleans\",\"about\",\"constellations\",\"Found\",\"arched\",\"nephew\",\"brandishing\",\"jubile\",\"say\",\"threat\",\"statute\",\"wil\",\"whoso\",\"Sad\",\"barbarous\",\"buryingplace\",\"bathed\",\"dejection\",\"resort\",\"admiral\",\"rattled\",\"cheated\",\"Beale\",\"echo\",\"error\",\"Mesopotamian\",\"routine\",\"Comrade\",\"printed\",\"Let\",\"Nebo\",\"parlors\",\"devoid\",\"dancer\",\"confident\",\"scorching\",\"hazard\",\"excused\",\"guard\",\"incident\",\"Fury\",\"Says\",\"imaginations\",\"trance\",\"Enos\",\"sup\",\"Nahshon\",\"Saviour\",\"snuffers\",\"Spaniard\",\"original\",\"93\",\"astride\",\"crowded\",\"unobserved\",\"impropriety\",\"hunted\",\"bud\",\"respite\",\"earn\",\"doctrine\",\"tough\",\"ram\",\"burst\",\"knop\",\"arising\",\"reaped\",\"fence\",\"ink\",\"decidedly\",\"ball\",\"patriarch\",\"thine\",\"Valognes\",\"seethe\",\"Order\",\"Start\",\"compliments\",\"herb\",\"wot\",\"patience\",\"cross\",\"mahogany\",\"slice\",\"bereave\",\"bird\",\"unconditional\",\"temperate\",\"elegance\",\"reverence\",\"hunters\",\"total\",\"Learn\",\"?--\",\"rode\",\"repeated\",\"Laertes\",\"President\",\"asses\",\"coax\",\"plagues\",\"disgraced\",\"Denmark\",\"Pity\",\"unwelcome\",\"contradictory\",\"heaped\",\"acquired\",\"Mighty\",\"Crossing\",\"escape\",\"Hushathite\",\"discreet\",\"Carolinas\",\"nice\",\"communion\",\"survive\",\"divided\",\"caress\",\"peaceably\",\"demanding\",\"squares\",\"amateur\",\"homewards\",\"justly\",\"godly\",\"avast\",\"swing\",\"dictate\",\"enthusiasts\",\"surgeon\",\"publicity\",\"begge\",\"olive\",\"outweigh\",\"Weston\",\"downstairs\",\"equally\",\"Surely\",\"parallel\",\"buildest\",\"Footman\",\"combat\",\"Lot\",\"Uz\",\"central\",\"ranks\",\"farms\",\"fellow\",\"luck\",\"melons\",\"exquisitely\",\"Far\",\"spades\",\"hastened\",\"covereth\",\"tempers\",\"pleaded\",\"fetch\",\"slipped\",\"Soldier\",\"Golden\",\"Tom\",\"variation\",\"century\",\"rights\",\"Major\",\"athirst\",\"lbs\",\"aren\",\"Easter\",\"card\",\"thicket\",\"outlaw\",\"embracing\",\"maternal\",\"Sihon\",\"rideth\",\"ebb\",\"Gods\",\"whole\",\"rung\",\"banners\",\"Victor\",\"rid\",\"Faith\",\"rings\",\"discontented\",\"creed\",\"minds\",\"picture\",\"FOLIO\",\"uniform\",\"unawares\",\"murders\",\"trusteth\",\"sharpest\",\"minister\",\"seemingly\",\"bread\",\"daylight\",\"Waiting\",\"hoping\",\"raise\",\"spending\",\"painted\",\"slew\",\"richness\",\"seeme\",\"Gospel\",\"intend\",\"Abib\",\"spoiler\",\"unbearable\",\"inhabitants\",\"tasks\",\"RORY\",\"faintest\",\"betrayed\",\"income\",\"Berkeley\",\"oil\",\"foaming\",\"local\",\"sentry\",\"magicians\",\"wondrous\",\"prompt\",\"indicate\",\"recognized\",\"mirth\",\"st\",\"licked\",\"swaying\",\"penetrating\",\"dominion\",\"reasons\",\"ambassador\",\"taffrail\",\"blackness\",\"bed\",\"respect\",\"Ramah\",\"plaintiffs\",\"fat\",\"throwing\",\"gloomy\",\"Beersheba\",\"loft\",\"linger\",\"Part\",\"chants\",\"aloof\",\"Goddard\",\"harm\",\"lately\",\"rage\",\"--(\",\"Villaine\",\"outgoings\",\"misty\",\"curl\",\"supernatural\",\"garraun\",\"redder\",\"camest\",\"Medes\",\"hurried\",\"Sidonians\",\"hesitation\",\"brave\",\"At\",\"probabilities\",\"besiege\",\"purified\",\"againe\",\"Point\",\"discerned\",\"comes\",\"velocity\",\"lance\",\"remorseless\",\"waxed\",\"flip\",\"reappeared\",\"Dunstable\",\"Eh\",\"sad\",\"aim\",\"tankard\",\"godliness\",\"finger\",\"Talbot\",\"Cas\",\"meanest\",\"clumsy\",\"\\\",\",\"metal\",\"sign\",\"provisions\",\"literary\",\"pitching\",\"external\",\"soone\",\"akin\",\"del\",\"possessing\",\"goats\",\"masses\",\"dwell\",\"oversight\",\"engaging\",\"considerably\",\"husky\",\"clerical\",\"soldier\",\"Never\",\"shirt\",\"indebted\",\"curricle\",\"bow\",\"imaginable\",\"event\",\"empty\",\"sooty\",\"southern\",\"withdrew\",\"astonished\",\"flowers\",\"rebelled\",\"times\",\"SAILOR\",\";\",\"snatching\",\"memories\",\"Donavan\",\"wares\",\"somehow\",\"ardent\",\"Either\",\"beyond\",\"salted\",\"gunwales\",\"ranges\",\"criest\",\"prejudice\",\"obedience\",\"deplorable\",\"heroes\",\"equivalent\",\"Bebai\",\"yonder\",\"gentle\",\"posterity\",\"island\",\"architect\",\"mazes\",\"Baptist\",\"violets\",\"Consequently\",\"turbulent\",\"sirs\",\"Erie\",\"transient\",\"elder\",\"furrow\",\"Highnesse\",\"kissing\",\"haste\",\"Ner\",\"plank\",\"shiver\",\"perhaps\",\"magic\",\"presiding\",\"pert\",\"Delight\",\"God\",\"possess\",\"awhile\",\"fulfilment\",\"spear\",\"hem\",\"dimly\",\"did\",\"haunt\",\"doves\",\"anointed\",\"mate\",\"helpless\",\"righteous\",\"exalteth\",\"depression\",\"consistent\",\"silenced\",\"Antonio\",\"destination\",\"hardness\",\"ire\",\"admired\",\"Talmai\",\"page\",\"blood\",\"Grey\",\"interruption\",\"oppressors\",\"Blast\",\"Longer\",\"Has\",\"atmospheres\",\"sunk\",\"warrant\",\"raising\",\"stranded\",\"seeth\",\"whirlwind\",\"cover\",\"140\",\"squared\",\"haul\",\"submitting\",\"repeatedly\",\"roused\",\"Bachelor\",\"hymn\",\"required\",\"side\",\"Greenland\",\"hesitating\",\"stride\",\"Perfectly\",\"Archers\",\"fifteen\",\"concealment\",\"effected\",\"hieroglyphics\",\"wrong\",\"communicative\",\"authors\",\"seamen\",\"veterans\",\"Honest\",\"image\",\"exploits\",\"successe\",\"sodden\",\"rememberest\",\"prominent\",\"played\",\"sacrificeth\",\"time\",\"judgement\",\"esteemed\",\"historical\",\"Yours\",\"supplies\",\"litter\",\"coals\",\"Forgive\",\"trumpet\",\"calls\",\"invented\",\"posts\",\"Ambition\",\"position\",\"Ground\",\"heeded\",\"humbly\",\"shrewd\",\"Seyton\",\"hunter\",\"precious\",\"stone\",\"grievously\",\"sighed\",\"swept\",\"yesterday\",\"kinds\",\"hunting\",\"141\",\"grey\",\"apprehensions\",\"Capernaum\",\"Enough\",\"convivial\",\"contract\",\"Er\",\"works\",\"scorch\",\"Atlantic\",\"odor\",\"frankness\",\"conditions\",\"disagree\",\"Shobal\",\"patent\",\"Bert\",\"partakers\",\"green\",\"pointing\",\"mire\",\"circular\",\"civil\",\"damsels\",\"prating\",\"Nantucketers\",\"jackanapes\",\"enterprize\",\"withall\",\"displeased\",\"Titus\",\"blindness\",\"associates\",\"amusements\",\"descending\",\"candle\",\"alike\",\"refuseth\",\"decease\",\"operation\",\"drunk\",\"Attend\",\"blacke\",\"weedy\",\"dipped\",\"salvation\",\"Todd\",\"Ireland\",\"assiduous\",\"Shechem\",\"indirectly\",\"fasten\",\"qualified\",\"rest\",\"90\",\"bottles\",\"keeps\",\"answerable\",\"promises\",\"Kellynch\",\"envious\",\"dares\",\"unity\",\"bargain\",\"seldom\",\"leysure\",\"curtains\",\"boasted\",\"law\",\"caught\",\"fleeting\",\"righteously\",\"forebodings\",\"parcels\",\"basons\",\"valiant\",\"buckle\",\"Cyprus\",\"Tola\",\"euer\",\"publicly\",\"constraint\",\"excitement\",\"corpses\",\"saint\",\"eyesight\",\"dispensation\",\"topic\",\"mask\",\"quarrel\",\"nourish\",\"noyse\",\"compassed\",\"indisposition\",\"quench\",\"weighty\",\"engaged\",\"Tale\",\"uncivil\",\"He\",\"sinews\",\"pallid\",\"impressive\",\"musing\",\"lucky\",\"Night\",\"mens\",\"continuance\",\"stoodest\",\"smelling\",\"piercing\",\"expose\",\"resigned\",\"gates\",\"farm\",\"thinkers\",\"Loue\",\"encountering\",\"obeys\",\"steamers\",\"midwives\",\"tumble\",\"blend\",\"humours\",\"beau\",\"shouldest\",\"mindes\",\"sensible\",\"mortify\",\"frame\",\"frolic\",\",'\",\"ready\",\"handy\",\"stick\",\"High\",\"lambs\",\"Dagda\",\"firstfruits\",\"whoredoms\",\"scorn\",\"ignorant\",\"refusing\",\"road\",\"sufferable\",\"born\",\"resolute\",\"horrible\",\"grazing\",\"marches\",\"narrated\",\"Afterward\",\"Bath\",\"conquer\",\"spectre\",\"sport\",\"conceivable\",\"offices\",\"sluggard\",\"calling\",\"Labour\",\"Journeyers\",\"BURSAL\",\"streamed\",\"coincidence\",\"tranquillity\",\"gale\",\"enlightened\",\"careth\",\"feathered\",\"Laish\",\"legged\",\"awoke\",\"ambiguous\",\"skull\",\"unfolded\",\"treatment\",\"images\",\"heave\",\"worketh\",\"Cin\",\"thinkest\",\"flight\",\"Hoshea\",\"pumps\",\"martyrs\",\"harpooneers\",\"accusers\",\"backe\",\"balanced\",\"adventures\",\"doings\",\"planting\",\"delicately\",\"forbidding\",\"vial\",\"abundantly\",\"absurd\",\"ass\",\"dignity\",\"proposition\",\"loud\",\"sits\",\"labour\",\"hav\",\"hart\",\"apace\",\"conqueror\",\"pierce\",\"foal\",\"edifying\",\"lot\",\"cellars\",\"wilde\",\"quicker\",\"circuit\",\"OTTER\",\"desperation\",\"wrenching\",\"108\",\"failing\",\"Pyrrhus\",\"Folly\",\"FRENCH\",\"strict\",\"vivid\",\"dense\",\"wast\",\"blossoms\",\"Falconroy\",\"brood\",\"trifling\",\"putting\",\"anvil\",\"Nob\",\"harpers\",\"owner\",\"customs\",\"sighted\",\"sternly\",\"Joab\",\"brightened\",\"blessing\",\"Wells\",\"Dibon\",\"exploit\",\"common\",\"Hebron\",\"amber\",\"Bread\",\"Inspector\",\"banner\",\"Zin\",\"performers\",\"Enoch\",\"orbs\",\"Market\",\"massacre\",\"oppresseth\",\"lurking\",\"observant\",\"Draw\",\"blame\",\"here\",\"Lamech\",\"shows\",\"wedding\",\"shifting\",\"appearances\",\"blinked\",\"acute\",\"regarded\",\"revolved\",\"drench\",\"prefer\",\"uttering\",\"tap\",\"below\",\"answers\",\"robbers\",\"stature\",\"knock\",\"billows\",\"department\",\"peculiarity\",\"misfortunes\",\"namely\",\"Darius\",\"Balak\",\"Counsellor\",\"Alabama\",\"forefinger\",\"sanctification\",\"crosses\",\"clear\",\"blossom\",\"weaker\",\"thoroughfares\",\"multitudes\",\"Samson\",\"commenced\",\"saws\",\"supposition\",\"'.\",\"sweetest\",\"morality\",\"Ananias\",\"tents\",\"Jared\",\"English\",\"hallow\",\"wrinkles\",\"deity\",\"lengthwise\",\"thereunto\",\"fellowservant\",\"Turning\",\"122\",\"strings\",\"choicest\",\"deserted\",\"eternity\",\"prowess\",\"Gomer\",\"Jerubbaal\",\"haile\",\"bespoke\",\"$\",\"loveth\",\"THEY\",\"harbor\",\"strong\",\"principle\",\"sands\",\"weather\",\"enabled\",\"Understand\",\"wine\",\"keeping\",\"Gibraltar\",\"fiend\",\"households\",\"staff\",\"peradventure\",\"describe\",\"cooper\",\"candlesticks\",\"imminent\",\"perdition\",\"faithfully\",\"canvass\",\"redresse\",\"IT\",\"proceeds\",\"den\",\"heardest\",\"trophy\",\"hypocritical\",\"Colours\",\"trace\",\"cherub\",\"ponderous\",\"Voices\",\"excuses\",\"Clay\",\"Woodpecker\",\"longest\",\"slunk\",\"Revolution\",\"Minde\",\"source\",\"tinkling\",\"slaying\",\"damned\",\"weaving\",\"Noblest\",\"condemn\",\"com\",\"struggles\",\"Fly\",\"talkative\",\"perusal\",\"maze\",\"seventeenth\",\"setteth\",\"diffuse\",\"Kansas\",\"descriptions\",\"boarding\",\"eventide\",\"railroad\",\"ministering\",\"obliged\",\"discouraged\",\"speed\",\"Thunder\",\"nose\",\"ascending\",\"unintelligible\",\"Mystery\",\"composedly\",\"openeth\",\"halfpenny\",\"taste\",\"foreskin\",\"coasts\",\"Purim\",\"rained\",\"agreed\",\"gowns\",\"pilots\",\"lanterns\",\"latitudes\",\"withered\",\"successfully\",\"shaved\",\"read\",\"privily\",\"transfer\",\"understands\",\"puffed\",\"miserably\",\"ridge\",\"mar\",\"vanity\",\"until\",\"blasphemer\",\"Must\",\"fallen\",\"weeks\",\"meets\",\"Surry\",\"fishers\",\"sugar\",\"carve\",\"lads\",\"breakfast\",\"manger\",\"grim\",\"Juda\",\"continued\",\"independent\",\"advise\",\"tremble\",\"lasting\",\"Ill\",\"chisel\",\"--\\\"\",\"If\",\"Maurice\",\"whilst\",\"Father\",\"wound\",\"Ahiezer\",\"nibble\",\"safer\",\"Rabbah\",\"voiceless\",\"vest\",\"from\",\"rule\",\"acquaintance\",\"peak\",\"plenteous\",\"oxen\",\"housetops\",\"plainly\",\"Spencer\",\"Shark\",\"dreadfull\",\"Lark\",\"Bold\",\"laboured\",\"publican\",\"ploughed\",\"grievous\",\"hop\",\"saves\",\"roaring\",\"Him\",\"impress\",\"system\",\"ounce\",\"}\",\"Pul\",\"offereth\",\"casual\",\"ruined\",\"fatlings\",\"stablish\",\"evade\",\"an\",\"Shadow\",\"completed\",\"grinned\",\"brethren\",\"traveller\",\"beseeching\",\"scare\",\"punctual\",\"Johanan\",\"race\",\"dedicated\",\"contribution\",\"fool\",\"Bethaven\",\"calmer\",\"coachman\",\"humorously\",\"wandered\",\"Banq\",\"garment\",\"trap\",\"wilt\",\"pour\",\"heauy\",\"bitten\",\"gleam\",\"Brobdingnag\",\"weaned\",\"healing\",\"murderous\",\"hasty\",\"4\",\"pervert\",\"promising\",\"lesser\",\"dynamiter\",\"aught\",\"mutual\",\"Chambermaid\",\"blind\",\"lawn\",\"stuff\",\"regular\",\"abominations\",\"jolly\",\"terrour\",\"their\",\"truths\",\"champion\",\"elate\",\"rebuke\",\"protected\",\"whereunto\",\"Players\",\"bottle\",\"shameful\",\"Eliashib\",\"Hezron\",\"beard\",\"brilliant\",\"Jabeshgilead\",\"sower\",\"headsmen\",\"try\",\"Jerimoth\",\"changes\",\"vengeful\",\"district\",\"sapphire\",\"Second\",\"measuring\",\"reminding\",\"riders\",\"retiring\",\"sacrificing\",\"Lie\",\"possessions\",\"masquerade\",\"Tarshish\",\"comic\",\"Mull\",\"inevitable\",\"Eli\",\"plaister\",\"cloven\",\"scream\",\"fanatic\",\"Lands\",\"deserts\",\"Over\",\"already\",\"Sheba\",\"heraldic\",\"disasters\",\"Question\",\"121\",\"Shammai\",\"Padanaram\",\"lustre\",\"deemed\",\"Bezaleel\",\"receiu\",\"oppose\",\"soul\",\"portly\",\"creep\",\"hell\",\"supper\",\"solution\",\"feverish\",\"79\",\"bunches\",\"dreamers\",\"material\",\"cider\",\"crime\",\"ravens\",\"carving\",\"crown\",\"candles\",\"Japhia\",\"had\",\"Sarah\",\"Maple\",\"soft\",\"buzzing\",\"stays\",\"Bichri\",\"stumbled\",\"hall\",\"subordinates\",\"dispute\",\"Bashemath\",\"roughly\",\"equal\",\"doubtless\",\"leg\",\"cook\",\"militia\",\"statements\",\"curiously\",\"Amasa\",\"dazed\",\"Isaac\",\"warned\",\"se\",\"others\",\"exultation\",\"staggered\",\"place\",\"numerous\",\"needles\",\"rifle\",\"overlooking\",\"revelation\",\"bonnet\",\"sucking\",\"zone\",\"Shinar\",\"scientist\",\"companionship\",\"cattle\",\"eaten\",\"hides\",\"undertook\",\"incarnate\",\"lilies\",\"dews\",\"archangel\",\"parried\",\"following\",\"rooted\",\"august\",\"cheered\",\"92\",\"grandson\",\"chapiters\",\"noble\",\".\\\"'\",\"trifle\",\"owned\",\"breeze\",\"dissipation\",\"Azareel\",\"sided\",\"voyages\",\"processions\",\"sin\",\"daisies\",\"negligent\",\".'\",\"oars\",\"sunlight\",\"stripes\",\"sounding\",\"Illustration\",\"elegant\",\"excessive\",\"bosoms\",\"vnnaturall\",\"unseen\",\"vilde\",\"Zoan\",\"waiteth\",\"bitterness\",\"near\",\"swords\",\"End\",\"Zephon\",\"frightful\",\"humbled\",\"exclaimed\",\"remembered\",\"outlived\",\"sublime\",\"thereon\",\"longed\",\"Youth\",\"yo\",\"circumcised\",\"reaching\",\"Bela\",\"affectedly\",\"fullest\",\"peculiarities\",\"brace\",\"cash\",\"unchanged\",\"theme\",\"sent\",\"discerning\",\"meat\",\"monument\",\"Clo\",\"region\",\"admiration\",\"rags\",\"Miss\",\"settlements\",\"depressing\",\"Louisiana\",\"members\",\"quit\",\"objections\",\".]\",\"Go\",\"merit\",\"forecastle\",\"maidens\",\"dwellers\",\"acres\",\"Josiah\",\"seclusion\",\"eventually\",\"M\",\"gas\",\"Luz\",\"gaily\",\"companies\",\"geological\",\"ultimate\",\"presumptuous\",\"normal\",\"Aristarchus\",\"hearers\",\"Delilah\",\"cedars\",\"playhouse\",\"inclosed\",\"2\",\"benefit\",\"removing\",\"Moon\",\"forehead\",\"Entering\",\"Most\",\"lays\",\"older\",\"Besides\",\"continues\",\"17\",\"observance\",\"chance\",\"bridge\",\"balmy\",\"prophesy\",\"habitations\",\"factories\",\"urges\",\"Countries\",\"Dreyfus\",\"touch\",\"edges\",\"lengthened\",\"warm\",\"radiance\",\"Pure\",\"drifted\",\"Chief\",\"Hudson\",\"meteors\",\"t\",\"mixed\",\"paused\",\"fists\",\"prettily\",\"proof\",\"stake\",\"fiery\",\"problems\",\"spilt\",\"nineteen\",\"wealthy\",\"sideways\",\"Boy\",\"twelvemonth\",\"Pleiades\",\"rushed\",\"Jahath\",\"testified\",\"field\",\"snare\",\"sight\",\"ceaseless\",\"bought\",\"news\",\"gratified\",\"totally\",\"logical\",\"Chaldea\",\"anger\",\"governors\",\"Fish\",\"Syrian\",\"stedfastly\",\"Rebellious\",\"Hickory\",\"chosen\",\"settle\",\"defy\",\"rivers\",\"Guernsey\",\"Elizabethan\",\"Larks\",\"circle\",\"wrecks\",\"breed\",\"Holy\",\"industrious\",\"honestly\",\"Mishael\",\"Whitman\",\"costs\",\"downe\",\"Meribah\",\"Hashabiah\",\"roes\",\"bulk\",\"Delaiah\",\"Ma\",\"declaring\",\"shook\",\"grain\",\"stead\",\"Giving\",\"Sail\",\"hungred\",\"curseth\",\"counsellor\",\"direct\",\"Manilla\",\"indispensable\",\"XVII\",\"spirit\",\"murk\",\"mistake\",\"S\",\"burying\",\"accidents\",\"chanting\",\"Gentiles\",\"shoulders\",\"opaque\",\"panel\",\"Thanks\",\"ere\",\"fed\",\"terrace\",\"vnder\",\"names\",\"surprized\",\"crickets\",\"savoury\",\"Answerer\",\"quivering\",\"wolves\",\"attitudes\",\"trespass\",\"Ashtaroth\",\"refresh\",\"Aurora\",\"butcher\",\"Egyptians\",\"reluctantly\",\"ecstasy\",\"Salt\",\"full\",\"56\",\"doer\",\"Began\",\"behind\",\"liars\",\"who\",\"resources\",\"stolidity\",\"fauour\",\"Illinois\",\"loving\",\"Mock\",\"Queen\",\"Soul\",\"pepper\",\"Plymouth\",\"uplands\",\"Greater\",\"salad\",\"wayward\",\"Galilaeans\",\"usually\",\"flap\",\"developed\",\"improvement\",\"fish\",\"Church\",\"coloured\",\"Sing\",\"pestilence\",\"cease\",\"noticed\",\"Thessalonica\",\"wonders\",\"came\",\"replied\",\"pewter\",\"thirty\",\"armies\",\"glittering\",\"wandering\",\"thankful\",\"Kentucky\",\"startling\",\"hearts\",\"shed\",\"railing\",\"Thy\",\"cool\",\"therewith\",\"Our\",\"mortality\",\"Geshurites\",\"theatre\",\"triumph\",\"wallow\",\"livelihood\",\"illustrious\",\"paradise\",\"practically\",\"creatures\",\"deer\",\"eate\",\"cast\",\"disdain\",\"considers\",\"dreams\",\"losing\",\"altered\",\"thanksgiving\",\"Por\",\"Freely\",\"combining\",\"spotted\",\"discussion\",\"Pahathmoab\",\"last\",\"waist\",\"sentences\",\"slouched\",\"composite\",\"conveyance\",\"climb\",\"Hindoo\",\"sever\",\"Gottlieb\",\"MR\",\"Gad\",\"wooded\",\"passion\",\"oppressed\",\"fascinating\",\"hosts\",\"bound\",\"Constitution\",\"Syria\",\"nursery\",\"recently\",\"Geba\",\"register\",\"blunders\",\"inaccessible\",\"lunge\",\"sighing\",\"hewn\",\"Among\",\"sorrow\",\"hearted\",\"unexceptionable\",\"cleanness\",\"murdered\",\"oblivion\",\"Raamah\",\"allow\",\"nimbus\",\"guests\",\"tails\",\"dusty\",\"note\",\"drinks\",\"figures\",\"womanhood\",\"rend\",\"abomination\",\"inclinations\",\"newer\",\"procure\",\"DID\",\"Ebal\",\"tramping\",\"greatest\",\"kiss\",\"gang\",\"pendant\",\"throes\",\"scattered\",\"Leah\",\"reviving\",\"cipher\",\"91\",\"formal\",\"gasp\",\"hind\",\"ringstraked\",\"concurrence\",\"cared\",\"Sole\",\"sinned\",\"womb\",\"tops\",\"celebrated\",\"affluence\",\"college\",\"Chimney\",\"populous\",\"logic\",\"tellest\",\"bribe\",\"perception\",\"strikes\",\"lattice\",\"Fare\",\"devilish\",\"Michmash\",\"Harville\",\"feedeth\",\"alienated\",\"graue\",\"bends\",\"bondmen\",\"acquire\",\"restored\",\"Evil\",\"schoolroom\",\"ostler\",\"Arabia\",\"Fine\",\"Eliphaz\",\"pretensions\",\"heauen\",\"impaired\",\"Hereafter\",\"semi\",\"apply\",\"ruinous\",\"patients\",\"Tekoa\",\"nine\",\"/\",\"hazel\",\"shapes\",\"52\",\"dearest\",\"Such\",\"bury\",\"d\",\"enraged\",\"alarms\",\"gush\",\"Winde\",\"fancy\",\"Dubosc\",\"multiply\",\"Nantucketer\",\"Abishua\",\"fourteenth\",\"ouer\",\"Horeb\",\"therein\",\"slain\",\"roving\",\"stalwart\",\"prosperity\",\"emptied\",\"bomb\",\"WITH\",\"inequality\",\"espoused\",\"yours\",\"sharing\",\"Hanun\",\"isn\",\"lengthen\",\"dressed\",\"party\",\"Antarctic\",\"Anah\",\"raises\",\"grazed\",\"headsman\",\"presumption\",\"mammy\",\"hate\",\"hushed\",\"barouche\",\"citizen\",\"walked\",\"pinch\",\"Hear\",\"Anne\",\"goe\",\"gracious\",\"guess\",\"arose\",\"bar\",\"Margery\",\"existed\",\"perplexity\",\"greasy\",\"block\",\"draped\",\"menservants\",\"Hawker\",\"pacing\",\"sustenance\",\"These\",\"amplitude\",\"Italy\",\"Jabesh\",\"stall\",\"plunging\",\"silken\",\"chivalry\",\"Jersey\",\"lesson\",\"Ebedmelech\",\"loosening\",\"Behold\",\"traditions\",\"Ain\",\"market\",\"Christopher\",\"clustering\",\"distances\",\"mariners\",\"ragged\",\"drivers\",\"whereas\",\"tangled\",\"preposterous\",\"fang\",\"January\",\"duly\",\"navy\",\"comest\",\"rallied\",\"kisse\",\"method\",\"requisite\",\"honourably\",\"rice\",\"Jenning\",\"valour\",\"Canallers\",\"Caleb\",\"Marriage\",\"shots\",\"Joiarib\",\"powerless\",\"axis\",\"shovel\",\"fettered\",\"myself\",\"crouching\",\"Deliverer\",\"grind\",\"assassins\",\"tribes\",\"harmonious\",\"sparrows\",\"Calp\",\"receiue\",\"pinnacles\",\"Ono\",\"tetrarch\",\"unconsciously\",\"thoughtfulness\",\"sundown\",\"lied\",\"becometh\",\"conjectured\",\"[\",\"starboard\",\"excess\",\"perfected\",\"waning\",\"previously\",\"Frode\",\"martyr\",\"pirate\",\"Charge\",\"chancing\",\"SCENE\",\"Past\",\"offers\",\"listening\",\"thin\",\"hoarsely\",\"miracle\",\"boil\",\"glared\",\"intensity\",\"flows\",\"expanding\",\"playground\",\"distance\",\"probable\",\"gleaning\",\"prop\",\"Shuhite\",\"whereupon\",\"Omnipotence\",\"Rechab\",\"coils\",\"served\",\"startled\",\"Chamber\",\"Voice\",\"just\",\"clever\",\"Ayre\",\"cloak\",\"affection\",\"dispel\",\"bawling\",\"summons\",\"pursuing\",\"construction\",\"lions\",\"Vesuvius\",\"feast\",\"cleaving\",\"defeats\",\"nestling\",\"1st\",\"provision\",\"Show\",\"selues\",\"fluke\",\"gun\",\"backsliding\",\"bibles\",\"projecting\",\"carcase\",\"whither\",\"smoky\",\"Breathe\",\"spice\",\"cleaveth\",\"_not_\",\"Shadrach\",\"yearly\",\"buoyant\",\"operated\",\"20\",\"embarrassed\",\"meete\",\"smiteth\",\"Glass\",\"masse\",\"right\",\"PROJECT\",\"liquid\",\"court\",\"couple\",\"means\",\"seals\",\"apostles\",\"deeply\",\"US\",\"clave\",\"Crab\",\"temptation\",\"snapped\",\"Manet\",\"63\",\"frigid\",\"talk\",\"spoons\",\"swift\",\"Wilt\",\"Zerah\",\"Clitus\",\"rushes\",\"conformity\",\"thunder\",\"travelling\",\"Vision\",\"investigation\",\"rise\",\"terrific\",\"stablished\",\"cocked\",\"sorely\",\"spare\",\"along\",\"Half\",\"sweareth\",\"bind\",\"Neuer\",\"baggage\",\"clothes\",\"gipsies\",\"vicinity\",\"flash\",\"softness\",\"divulged\",\"tapping\",\"sanity\",\"nod\",\"flats\",\"associations\",\"covert\",\"hailing\",\"slaves\",\"glance\",\"covered\",\"sprawling\",\"chiefly\",\"revealed\",\"principally\",\"enclosing\",\"windward\",\"Gryphon\",\"lepers\",\"vanished\",\"Exeunt\",\"Sucklings\",\"76\",\"parley\",\"receding\",\"kisses\",\"special\",\"cheating\",\"142\",\"_She_\",\"Conqueror\",\"reckless\",\"blinding\",\"sepulchre\",\"unsafe\",\"ceiling\",\"imaginative\",\"counselled\",\"\\\".\",\"rudeness\",\"twopence\",\"wid\",\"quietude\",\"spilled\",\"shiny\",\"owed\",\"decently\",\"Powers\",\"signe\",\"Cherubim\",\"alive\",\"coward\",\"shady\",\"expressed\",\"brandy\",\"justice\",\"applications\",\"owes\",\"goodliest\",\"Bear\",\"tramp\",\"NEW\",\"Kirjathjearim\",\"oaken\",\"flock\",\"although\",\"hug\",\"conversing\",\"monuments\",\"rigged\",\"triangular\",\"truck\",\"Hittites\",\"righteousness\",\"agents\",\"Iulius\",\"Thel\",\"aromatic\",\"Fins\",\"bumped\",\"infection\",\"proves\",\"while\",\"flattery\",\"long\",\"peers\",\"sorcerers\",\"blowing\",\"growl\",\"Ithamar\",\"eighth\",\"arrangement\",\"spine\",\"Princedoms\",\"manifest\",\"promoting\",\"pealing\",\"Zebulun\",\"farce\",\"collections\",\"Captains\",\"remainder\",\"cheerily\",\"Abihail\",\"revolution\",\"useful\",\"redeeming\",\"dart\",\"fatigues\",\"lop\",\"orchard\",\"Kibrothhattaavah\",\"Ophrah\",\"civilization\",\"tidy\",\"Villars\",\"drowned\",\"officious\",\"Musgrove\",\"seuerall\",\"continuing\",\"England\",\"Strangers\",\"illiterate\",\"nursing\",\"cavity\",\"shot\",\"detail\",\"presence\",\"causeth\",\"dragging\",\"contracted\",\"quick\",\"smallness\",\"astonishment\",\"arrows\",\"sweeping\",\"leprosy\",\"heath\",\"jealous\",\"Fred\",\"Ebed\",\"Pratt\",\"week\",\"Pamphylia\",\"Lima\",\"selfe\",\"bashful\",\"fortitude\",\"harlot\",\"strayed\",\"frosty\",\"sunrise\",\"mule\",\"Pole\",\"falls\",\"batter\",\"&\",\"Hayters\",\"kingly\",\"convicts\",\"shuddering\",\"vertebrae\",\"passionate\",\"framed\",\"slightest\",\"glare\",\"Lucil\",\"hungry\",\"zealous\",\"WHALING\",\"wilderness\",\"Seraph\",\"Landlord\",\"acknowledged\",\"This\",\"crimson\",\"fantastic\",\"idiot\",\"Farmer\",\"selfishness\",\"drenched\",\"Molech\",\"lashed\",\"announce\",\"lees\",\"Shirley\",\"alarmed\",\"removal\",\"manifested\",\"though\",\"instantaneously\",\"Naphtali\",\"loins\",\"connexions\",\"Cushi\",\"unbelief\",\"launched\",\"attractive\",\"PIP\",\"onyx\",\"secrecy\",\"insulting\",\"directions\",\"amazingly\",\"parched\",\"countless\",\"bite\",\"servant\",\"Jeconiah\",\"bidden\",\"Hill\",\"destroys\",\"trailing\",\"departing\",\"bemoan\",\"depended\",\"alarming\",\"himself\",\"Their\",\"miser\",\"pointedly\",\"sprung\",\"dangers\",\"devils\",\"collected\",\"Norland\",\"ribs\",\"stared\",\"stories\",\"palsy\",\"innocent\",\"Aloud\",\"Elealeh\",\"winding\",\"raspberries\",\"sparkled\",\"lore\",\"Bethany\",\"dances\",\"devote\",\"Ezza\",\"survivor\",\"conducted\",\"Heart\",\"Oman\",\"South\",\"nearly\",\"Manxman\",\"blade\",\"plums\",\"meagre\",\"talebearer\",\"Free\",\"XII\",\"Safe\",\"still\",\"intelligible\",\"dew\",\"Shammah\",\"expressly\",\"Horses\",\"eruption\",\"Ramothgilead\",\"fight\",\"sand\",\"Eustache\",\"drifting\",\"Knowing\",\"speake\",\"varying\",\"dance\",\"sandwiches\",\"wanting\",\"varnished\",\"Dear\",\"editor\",\"feigned\",\"shutting\",\"adorned\",\"stalls\",\"dirt\",\"Matter\",\"sane\",\"sir\",\"successively\",\"baptized\",\"scriptures\",\"Chittim\",\"frighten\",\"roast\",\"Oh\",\"Heshbon\",\"Swiftly\",\"Cyrus\",\"Stars\",\"California\",\"em\",\"Thenceforth\",\"broth\",\"reminded\",\"impart\",\"princes\",\"assert\",\"Smith\",\"confronting\",\"Rossmore\",\"wiles\",\"Stern\",\"Celtic\",\"sperm\",\"discharging\",\"style\",\"frequent\",\"innumerable\",\"beloved\",\"overcome\",\"temporary\",\"buried\",\"indefinite\",\"extol\",\"Nor\",\"harmless\",\"Talk\",\"mile\",\"believes\",\"Obededom\",\"withdrawn\",\"exceed\",\"sufficient\",\"yourself\",\"twig\",\"foote\",\"graces\",\"reproacheth\",\"heard\",\"priesthood\",\"Gate\",\"Ophelia\",\"softest\",\"wilder\",\"label\",\"sort\",\"bowls\",\"sing\",\"chair\",\"margin\",\"Somerville\",\"barbarian\",\"gardeners\",\"Salmon\",\"baken\",\"MacNabs\",\"nobler\",\"on\",\"jingling\",\"doeth\",\"Men\",\"villages\",\"absence\",\"topmost\",\"bottom\",\"desires\",\"monstrous\",\"shawl\",\"surge\",\"Czar\",\"Didn\",\"Ammihud\",\"engines\",\"skeleton\",\"herself\",\"Royal\",\"struck\",\"masters\",\"destin\",\"lavers\",\"lunacy\",\"discoveries\",\"pulled\",\"OR\",\"sheaf\",\"expressive\",\"befriend\",\"gallery\",\"Jehohanan\",\"pillar\",\"Thanes\",\"fatigued\",\"strictest\",\"real\",\"spun\",\"forts\",\"reflection\",\"devices\",\"liu\",\"consideration\",\"bedroom\",\"soundness\",\"polite\",\"join\",\"building\",\"Of\",\"thoroughfare\",\"containing\",\"Few\",\"Zalmunna\",\"javelin\",\"keepers\",\"juggling\",\"loads\",\"popularly\",\"gone\",\"inhale\",\"Calhoun\",\"vacancy\",\"Philistine\",\"YOUR\",\"vegetables\",\"to\",\"Cilicia\",\"utility\",\"No\",\"meere\",\"bear\",\"conceive\",\"verdant\",\"birth\",\"discernment\",\"abject\",\"pet\",\"midday\",\"design\",\"stacks\",\"strawberry\",\"Otherwise\",\"quest\",\"safe\",\"caves\",\"disputing\",\"eunuch\",\"deny\",\"project\",\"master\",\"coming\",\"strain\",\"lakes\",\"chuckling\",\"manservant\",\"Palmer\",\"comparative\",\"sundry\",\"rows\",\"reconcile\",\"claiming\",\"revenge\",\"warning\",\"untie\",\"nourished\",\"yielding\",\"ward\",\"pleasantness\",\"pedigree\",\"allusion\",\"down\",\"slumbers\",\"Might\",\"evolutionary\",\"wanted\",\"dynamite\",\"thought\",\"introduction\",\"string\",\"Alligator\",\"lame\",\"nearer\",\"cars\",\"Angel\",\"Apollos\",\"degrading\",\"AHAB\",\"slaine\",\"DOES\",\"heathenish\",\"mistress\",\"Next\",\"impudence\",\"admirer\",\"Worse\",\"sail\",\"brings\",\"Pelethites\",\"graciousness\",\"endeavoured\",\"hamlet\",\"disputes\",\"at\",\"THEM\",\"widowhood\",\"thrilling\",\"April\",\"ungrateful\",\"oliveyards\",\"crowned\",\"corrupt\",\"scraped\",\"philosophies\",\"important\",\"drop\",\"lashes\",\"cry\",\"Asiatic\",\"rumbling\",\"barbaric\",\"congratulate\",\"perverseness\",\"fastidious\",\"doe\",\"calves\",\"Heir\",\"Rehum\",\"dozen\",\"garnished\",\"governess\",\"sale\",\"sprouts\",\"dismal\",\"necessities\",\"maritime\",\"Both\",\"walking\",\"edged\",\"Seven\",\"merited\",\"Townsend\",\"tossing\",\"politeness\",\"necessarily\",\"convulsions\",\"channel\",\"Gilboa\",\"rapturous\",\"Durand\",\"dear\",\"amain\",\"Samaria\",\"persuading\",\"poisoned\",\"vaults\",\"Barabbas\",\"Ceremonies\",\"implied\",\"destroy\",\"nasty\",\"fragments\",\"JOHN\",\"Above\",\"swells\",\"Violetta\",\"feeble\",\"fabled\",\"proportionate\",\"westward\",\"Mill\",\"mirror\",\"125\",\"Flourish\",\"THIS\",\"haughtiness\",\"Murth\",\"possible\",\"goose\",\"notable\",\"intends\",\"chestnut\",\"censure\",\"restoring\",\"wrenched\",\"Whereto\",\"refusal\",\"Ment\",\"throbs\",\"descry\",\"indulging\",\"confine\",\"quicken\",\"supplication\",\"Southern\",\"matured\",\"far\",\"wanderings\",\"action\",\"asserted\",\"searcheth\",\"pans\",\"newly\",\"guinea\",\"stork\",\"iniquities\",\"Taurus\",\"gnashing\",\"Diamond\",\"himselfe\",\"discretion\",\"foreseen\",\"salmon\",\"medicines\",\"Marah\",\"piping\",\"Lead\",\"Herein\",\"run\",\"swore\",\"imagination\",\"colouring\",\"swell\",\"stirs\",\"pier\",\"Just\",\"undesirable\",\"87\",\"Martins\",\"defended\",\"Follow\",\"spat\",\"traitor\",\"gradual\",\"globes\",\"inspire\",\"whirlpool\",\"permitting\",\"thickets\",\"Azrikam\",\"wishing\",\"poems\",\"want\",\"]\",\"praying\",\"void\",\"intermediate\",\"awaiting\",\"account\",\"suggest\",\"splendour\",\"filigree\",\"snowy\",\"mock\",\"prune\",\"portion\",\"drops\",\"madam\",\"Beast\",\"Dutch\",\"continuous\",\"carriages\",\"soothing\",\"perceptible\",\"rowing\",\"shamefully\",\"pig\",\"plea\",\"kindled\",\"boasting\",\"regretted\",\"Nebuzaradan\",\"hole\",\"changing\",\"disciples\",\"revealeth\",\"scabbard\",\"for\",\"Zedekiah\",\"study\",\"reporter\",\"Lyca\",\"indifference\",\"rides\",\"entire\",\"blesseth\",\"fuss\",\"Believe\",\"tormented\",\"Shemaiah\",\"espied\",\"emperor\",\"Priests\",\"faults\",\"mouldy\",\"desirous\",\"unprofitable\",\"heauie\",\"Hampshire\",\"execute\",\"declined\",\"baffled\",\"Howbeit\",\"centre\",\"All\",\"Pull\",\"exhaled\",\"Music\",\"heart\",\"scope\",\"sixth\",\"willingly\",\"ringed\",\"Cursed\",\"Camden\",\"enforced\",\"Gittite\",\"borrow\",\"Neriah\",\"boys\",\"untold\",\"everybody\",\"ordinary\",\"finery\",\"Roman\",\"towards\",\"projects\",\"daughters\",\"sympathy\",\"MacNab\",\"contending\",\"happening\",\"brier\",\"74\",\"foolishly\",\"grandfather\",\"warriors\",\"ogre\",\"Nothing\",\"teeming\",\"saidst\",\"Deck\",\"actually\",\"Nelson\",\"Hood\",\"Virgin\",\"contained\",\"dresses\",\"droll\",\"sunlit\",\"partial\",\"barn\",\"defiance\",\"Tartar\",\"Print\",\"notion\",\"sometime\",\"overlooked\",\"holidays\",\"eating\",\"bason\",\"Canst\",\"Maidens\",\"spoke\",\"deep\",\"continual\",\"Zerahiah\",\"according\",\"performances\",\"yearning\",\"identities\",\"abstract\",\"mount\",\"parable\",\"Anak\",\"sunny\",\"powder\",\"points\",\"exclaiming\",\"40\",\"comparatively\",\"inlaid\",\"sprained\",\"Rekem\",\"Russell\",\"extremes\",\"campaign\",\"appear\",\"wings\",\"trode\",\"females\",\"foreigner\",\"interpretation\",\"messengers\",\"laborers\",\"hopeful\",\"goodman\",\"raging\",\"inmost\",\"omit\",\"manifold\",\"dens\",\"remiss\",\"mountainous\",\"flavor\",\"Joppa\",\"basis\",\"fault\",\"apes\",\"explained\",\"mindful\",\"rogues\",\"Job\",\"partnership\",\"Race\",\"pavilion\",\"Tell\",\"vintage\",\"Swords\",\"emotion\",\"Is\",\"wrecked\",\"liberally\",\"grunted\",\"harpoons\",\"applauded\",\"shell\",\"madhouse\",\"efficacy\",\"encamped\",\"Shipmates\",\"sooth\",\"wilful\",\"dazzle\",\"Flatterers\",\"joyous\",\"Shiloh\",\"twice\",\"prayer\",\"correspond\",\"felled\",\"nervous\",\"Messenger\",\"Other\",\"riot\",\"Diana\",\"dirty\",\"listen\",\"dates\",\"clearing\",\"doubled\",\"Venice\",\"approaching\",\"wrought\",\"duck\",\"foretold\",\"rue\",\"Russian\",\"Heiligwaldenstein\",\"axe\",\"Sirs\",\"lawsuit\",\"Folio\",\"tendency\",\"Out\",\"49\",\"divorced\",\"knotted\",\"descent\",\"Hearken\",\"papers\",\"sources\",\"fastening\",\"Won\",\"Drum\",\"knowest\",\"people\",\"take\",\"stun\",\"complicated\",\"straightened\",\"corresponding\",\"elevate\",\"bishops\",\"puzzled\",\"vapour\",\"cleanse\",\"away\",\"ending\",\"empyreal\",\"farmer\",\"sparingly\",\"escaping\",\"attentions\",\"archery\",\"Penuel\",\"appearing\",\"Dashwood\",\"Cornwall\",\"lacketh\",\"Spain\",\"creditable\",\"retreating\",\"arrival\",\"labouring\",\"judgments\",\"Mouse\",\"worth\",\"Hora\",\"wel\",\"Madam\",\"boxes\",\"openings\",\"husbands\",\"dale\",\"glorious\",\"subjection\",\"crop\",\"wore\",\"curves\",\"benefited\",\"sensation\",\"imprisoned\",\"wife\",\"charming\",\"gratis\",\"swarms\",\"Boulnois\",\"independence\",\"endured\",\"135\",\"watch\",\"lastly\",\"Aholibamah\",\"Walk\",\"VOYAGE\",\"realize\",\"rear\",\"Sons\",\"china\",\"porch\",\"cycles\",\"resident\",\"Zabdi\",\"Foundation\",\"roses\",\"gipsy\",\"Concerning\",\"placing\",\"wig\",\"provoked\",\"ALL\",\"gossip\",\"gayly\",\"River\",\"Build\",\"chant\",\"roads\",\"Nimshi\",\"Last\",\"inventors\",\"fierceness\",\"anti\",\"Bombay\",\"less\",\"Cross\",\"raillery\",\"headache\",\"openly\",\"services\",\"hee\",\"puppy\",\"Twenty\",\"ignorantly\",\"Buster\",\"mob\",\"interchange\",\"Musgroves\",\"profound\",\"Given\",\"owners\",\"communed\",\"soil\",\"124\",\"Nun\",\"ill\",\"uppermost\",\"Ban\",\"speaking\",\"ME\",\"rippling\",\"hour\",\"candour\",\"divination\",\"Ducks\",\"Jobab\",\"barbarians\",\"Chicago\",\"delicacies\",\"example\",\"Songs\",\"Gadites\",\"groaning\",\"interposed\",\"Truth\",\"earthen\",\"slacken\",\"BARRING\",\"mice\",\"fished\",\"intimacy\",\"heroism\",\"lieutenant\",\"euery\",\"helplessly\",\"FROM\",\"consisted\",\"Barn\",\"snorting\",\"males\",\"purged\",\"stripped\",\"steep\",\"Nations\",\"size\",\"descended\",\"Gomorrah\",\"wee\",\"chances\",\"delivered\",\"respecting\",\"Piercefield\",\"impassive\",\"tossed\",\"mallet\",\"Since\",\"Pooley\",\"harmony\",\"Fifth\",\"housekeeping\",\"Theresa\",\"wanteth\",\"progeny\",\"Perseus\",\"mat\",\"languish\",\"center\",\"capricious\",\"vigilance\",\"wholsome\",\"scrap\",\"inference\",\"Conscience\",\"can\",\"Knocke\",\"pride\",\"attendance\",\"Zadok\",\"Weave\",\"burns\",\"Achish\",\"Soup\",\"mincing\",\"disgust\",\"Abidan\",\"knocking\",\"woke\",\"Shallum\",\"poisonous\",\"blasphemy\",\"Treasure\",\"trio\",\"control\",\"Gent\",\"Nicodemus\",\"gave\",\"Tash\",\"contributed\",\"Manhattan\",\"Jehoiada\",\"am\",\"calleth\",\"THEL\",\"Crowne\",\"catastrophe\",\"unwell\",\"distribute\",\"case\",\"specialist\",\"reckoning\",\"spied\",\"loaded\",\"sky\",\"meetings\",\"attempts\",\"friendship\",\"and\",\"condescending\",\"lodge\",\"utter\",\"enquire\",\"fig\",\"butter\",\"sitteth\",\"marred\",\"Blow\",\"ravished\",\"1\",\"marriage\",\"immediate\",\"reviled\",\"accident\",\"specimen\",\"Mad\",\"94\",\"ineffable\",\"bank\",\"suspicion\",\"paling\",\"intercourse\",\"warnings\",\"bones\",\"runs\",\"Zuar\",\"soothsayers\",\"favourably\",\"giddy\",\"Leaue\",\"eighteenth\",\"drama\",\"rains\",\"rumour\",\"ourselves\",\"certaine\",\"nation\",\"receipt\",\"speechless\",\"fitted\",\"Earl\",\"ain\",\"whipping\",\"Pip\",\"persevered\",\"faith\",\"Haman\",\"stones\",\"unfeeling\",\"ringleader\",\"Whereon\",\"Easy\",\"roared\",\"Mattaniah\",\"Beloved\",\"create\",\"Urim\",\"Called\",\"flaw\",\"roadside\",\"Immortal\",\"relent\",\"subterranean\",\"afflicted\",\"family\",\"arrived\",\"admirers\",\"wayfaring\",\"Thrones\",\"adieu\",\"Tempter\",\"Ryan\",\"bonds\",\"sloped\",\"teacheth\",\"confront\",\"literatures\",\"nourishing\",\"daring\",\"firstlings\",\"fleet\",\"fluttered\",\"several\",\"exists\",\"fleeing\",\"covet\",\"It\",\"Banquo\",\"Black\",\"officials\",\"Abyss\",\"sleepers\",\"once\",\"loveliness\",\"expedition\",\"amisse\",\"Country\",\"evil\",\"Inn\",\"highth\",\"quickness\",\"Rabshakeh\",\"dromedary\",\"Rain\",\"bars\",\"Mahalaleel\",\"David\",\"teare\",\"club\",\"stroke\",\"Accept\",\"archer\",\"banquet\",\"workers\",\"ruled\",\"bang\",\"river\",\"endangered\",\"forming\",\"wary\",\"secluded\",\"kneeled\",\"chaps\",\"stolen\",\"furnishing\",\"brows\",\"Usher\",\"woollen\",\"surveying\",\"animal\",\"line\",\"visitation\",\"rang\",\"wag\",\"knight\",\"Delightful\",\"Davis\",\"energetic\",\"strait\",\"tormenting\",\"unlocked\",\"graves\",\"elephant\",\"limber\",\"Huzza\",\"fable\",\"bids\",\"vocation\",\"schooner\",\"Nantucket\",\"Etam\",\"hips\",\"decrees\",\"naughty\",\"executioner\",\"idly\",\"cannon\",\"greater\",\"underground\",\"exchange\",\"Tis\",\"seasoned\",\"coin\",\"Had\",\"bold\",\"players\",\"truly\",\"dumb\",\"streaks\",\"chill\",\"possibilities\",\"pronounce\",\"separately\",\"filthiness\",\"Certainly\",\"jingle\",\"Angell\",\"technically\",\"hoary\",\"vulgar\",\"sleepe\",\"asylum\",\"counteract\",\"doubt\",\"Mal\",\"railroads\",\"heathen\",\"tumbling\",\"suggesting\",\"eleventh\",\"conscience\",\"order\",\"cruse\",\"Rosin\",\"unaccountably\",\"shadow\",\"Hushai\",\"infernal\",\"newspaper\",\"Thirty\",\"antiquities\",\"Murther\",\"Joram\",\"woolly\",\"spacious\",\"intelligence\",\"Child\",\"devoted\",\"noonday\",\"are\",\"treadeth\",\"rib\",\"114\",\"needs\",\"convenient\",\"tickled\",\"smoke\",\"fearfulness\",\"suspension\",\"peaceful\",\"directing\",\"volumes\",\"peaked\",\"contemptible\",\"studded\",\"Fate\",\"wreathen\",\"mellow\",\"declines\",\"!)\",\"fears\",\"shaken\",\"offspring\",\"thrill\",\"irrepressible\",\"trampling\",\"pattering\",\"guarded\",\"nearing\",\"Matthew\",\"relative\",\"gunwale\",\"surging\",\"wan\",\"aroused\",\"occupy\",\"hundred\",\"chop\",\"confused\",\"leaven\",\"Nazarite\",\"America\",\"woven\",\"brow\",\"dwells\",\"limbs\",\"freer\",\"god\",\"treasures\",\"excessively\",\"darkly\",\"scientific\",\"forcing\",\"Full\",\"Damascus\",\"Jews\",\"impure\",\"Quohog\",\"Benjamites\",\"ministration\",\"filled\",\"Armes\",\"gruffly\",\"Say\",\"Sisera\",\"competent\",\"landing\",\"surprised\",\"visibly\",\"turning\",\"blessed\",\"succession\",\"reveries\",\"aspiration\",\"Beatrice\",\"annual\",\"Archy\",\"triumphant\",\"induce\",\"tuned\",\"adviser\",\"threshing\",\"brilliancy\",\"measured\",\"frankincense\",\"bide\",\"help\",\"Dewdrop\",\"decanter\",\"opposing\",\"negro\",\"ascertained\",\"Lachish\",\"126\",\"horror\",\"Marquis\",\"parents\",\"successful\",\"threaten\",\"abused\",\"Melchisedec\",\"suddenness\",\";)\",\"diminish\",\"brightest\",\"meaningless\",\"widely\",\"angels\",\"stuck\",\"estranged\",\"population\",\"scall\",\"deliberately\",\"pan\",\"reproaches\",\"thanking\",\"Gordon\",\"rhyme\",\"eluded\",\"Haggai\",\"millions\",\"_our_\",\"Assir\",\"fell\",\"Sorrow\",\"Rezin\",\"Rehabiah\",\"asleepe\",\"busily\",\"Eleazar\",\"Ziklag\",\"Fates\",\"casteth\",\"measur\",\"hoisting\",\"astonishing\",\"splashed\",\"Childe\",\"comprehended\",\"aspirations\",\"unfound\",\"flags\",\"Strathspey\",\"direful\",\"Seest\",\"Moses\",\"Cinna\",\"reduce\",\"resting\",\"towering\",\"mountains\",\"*\",\"flax\",\"radishes\",\"insult\",\"smoothly\",\"returne\",\"recalled\",\"pledge\",\"embattled\",\"breaths\",\"widows\",\"rending\",\"sons\",\"allowing\",\"threatened\",\"44\",\"Straits\",\"reconciliation\",\"homer\",\"Considering\",\"cure\",\"bolder\",\"whereon\",\"justification\",\"ducking\",\"Elihu\",\"proposal\",\"aggregate\",\"swallow\",\"Pequod\",\"tale\",\"filthy\",\"witnesses\",\"hindered\",\"Rid\",\"handspikes\",\"regardless\",\"wharves\",\"paddle\",\"behalf\",\"appointments\",\"unrighteousness\",\"expectations\",\"carols\",\"move\",\"triangle\",\"Unless\",\"needlework\",\"washed\",\"regularly\",\"wouldest\",\"heel\",\"included\",\"lying\",\"embalmed\",\"purchased\",\"Kensington\",\"deck\",\"livest\",\"ancestor\",\"postman\",\"spout\",\"Clifton\",\"remnant\",\"Mar\",\"share\",\"trappers\",\"His\",\"detectives\",\"bayonets\",\"celestial\",\"75\",\"laughs\",\"assuredly\",\"forbade\",\"Asia\",\"noiseless\",\"acknowledgment\",\"30\",\"amendment\",\"flashed\",\"deals\",\"was\",\"smiling\",\"Troas\",\"Timothy\",\"Italian\",\"coat\",\"amazed\",\"conversed\",\"serves\",\"un\",\"Peor\",\"opportune\",\"electric\",\"radiant\",\"crash\",\"whisper\",\"departs\",\"controversy\",\"swimmer\",\"personality\",\"rap\",\"Ishmael\",\"decked\",\"superstitions\",\"ducked\",\"reverent\",\"appeal\",\"Dragon\",\"Thursday\",\"Harris\",\"sweepers\",\"slayeth\",\"Macduff\",\"beads\",\"preserved\",\"sore\",\"watching\",\"cruising\",\"frank\",\"Achbor\",\"band\",\"tore\",\"severe\",\"Weep\",\"sewing\",\"mound\",\"conscientious\",\"inviting\",\"marvelled\",\"comming\",\"Turkish\",\"pray\",\"imagining\",\"ranged\",\"packthread\",\"animals\",\"majesty\",\"wronged\",\"milky\",\"regarding\",\"perfect\",\"raiment\",\"?)\",\"mistook\",\"peep\",\"parade\",\"Sweet\",\"obligation\",\"Heare\",\"pantaloons\",\"immense\",\"unleavened\",\"interpreter\",\"conception\",\"Honesty\",\"Scarcely\",\"thicker\",\"loudest\",\"you\",\"misunderstood\",\"obstinate\",\"timber\",\"haply\",\"sweat\",\"hatch\",\"woodlands\",\"belonged\",\"tarry\",\"rays\",\"Mammy\",\"froward\",\"dubious\",\"honesty\",\"Divine\",\"150\",\"complaint\",\"sympathize\",\"extent\",\"passover\",\"avoiding\",\"Masters\",\"staircase\",\"reflect\",\"enemies\",\"impenetrable\",\"soaring\",\"Tower\",\"sobriety\",\"criminal\",\"arsenal\",\"gotten\",\"Ammishaddai\",\"flower\",\"112\",\"unalterable\",\"public\",\"foreheads\",\"distinct\",\"noisy\",\"pyramids\",\"seal\",\"haired\",\"Send\",\"Iconium\",\"stunned\",\"buttons\",\"bindeth\",\"drave\",\"treated\",\"extremely\",\"Beasts\",\"heels\",\"grass\",\"bored\",\"hunger\",\"mourning\",\"lines\",\"latest\",\"seeke\",\"corrupted\",\"bene\",\"gallows\",\"balloon\",\"possessed\",\"poetical\",\"limitless\",\"lovers\",\"trade\",\"mystery\",\"Madnesse\",\"consecration\",\"stubbornly\",\"Lives\",\"closing\",\"waltz\",\"Trebonius\",\"timbrels\",\"dawning\",\"indolent\",\"worthier\",\"either\",\"Round\",\"Haran\",\"aboard\",\"hard\",\"sweare\",\"Forth\",\"Peradventure\",\"northern\",\"Gold\",\"Panado\",\"laughed\",\"Lee\",\"Fla\",\"affair\",\"O\",\"gentleman\",\"lumps\",\"amply\",\"Becher\",\"Ethereal\",\"leade\",\"Amram\",\"devise\",\"pregnant\",\"doorway\",\"day\",\"fitting\",\"fast\",\"Speak\",\"anoint\",\"rewarded\",\"widower\",\"renown\",\"irregular\",\"drest\",\"dinners\",\"forgive\",\"repaid\",\"Starre\",\"tens\",\"compasseth\",\"impudent\",\"Instruments\",\"Superiour\",\"it\",\"multiform\",\"Moreover\",\"petty\",\"length\",\"ecstatic\",\"pulse\",\"wedded\",\"prisons\",\"enlarged\",\"waited\",\"limb\",\"solicitude\",\"recesses\",\"placidly\",\"Ginger\",\"obey\",\"goodnight\",\"Abide\",\"emerged\",\"shun\",\"recommendation\",\"perisheth\",\"blockhead\",\"Government\",\"assisted\",\"glowing\",\"Meanwhile\",\"tranquil\",\"Circus\",\"tipped\",\"Good\",\"beds\",\"OLD\",\"punishment\",\"correspondent\",\"instant\",\"Graue\",\"Whither\",\"monkey\",\"Cuvier\",\"frost\",\"Emperor\",\"recitative\",\"naturalists\",\"customer\",\"noblest\",\"vent\",\"finde\",\"discharge\",\"bathing\",\"hasted\",\"Wild\",\"LONG\",\"hasn\",\"swiftly\",\"nations\",\"Vnto\",\"Baalpeor\",\"rupture\",\"stronger\",\"grove\",\"blankets\",\"old\",\"Starbuck\",\"Friend\",\"Montem\",\"gavest\",\"Ha\",\"Gedor\",\"afloat\",\"ioy\",\"Receive\",\"Human\",\"box\",\"tunnel\",\"maintenance\",\"circled\",\"shouldst\",\"saluteth\",\"victorious\",\"measureless\",\"plaid\",\"proper\",\"liers\",\"Therefore\",\"Quayle\",\"Hebrews\",\"architecture\",\"masks\",\"Claude\",\"humid\",\"dissent\",\"After\",\"A\",\"swifter\",\"different\",\"fathom\",\"proportion\",\"Edomite\",\"adrift\",\"undertaken\",\"gods\",\"confirming\",\"farmers\",\"trustest\",\"judge\",\"Roll\",\"yards\",\"assured\",\"Street\",\"Arme\",\"!\",\"spoilt\",\"roots\",\"choice\",\"Girgashites\",\"Hananiah\",\"hope\",\"bay\",\"usurpation\",\"including\",\"funeral\",\"thrusting\",\"counsels\",\"suspicions\",\"irritated\",\"gospel\",\"repetition\",\"breathless\",\"darling\",\"load\",\"vexation\",\"pioneer\",\"affects\",\"incredulous\",\"clearer\",\"policemen\",\"Tychicus\",\"force\",\"provocation\",\"dazzling\",\"tm\",\"dessert\",\"bark\",\"tiresome\",\"favoured\",\"ankle\",\"expanded\",\"critters\",\"cadence\",\"muscles\",\"Virtues\",\"Enderby\",\"scratch\",\"meditation\",\"summon\",\"mild\",\"maintained\",\"cart\",\"rocking\",\"gums\",\"ceremonial\",\"reign\",\"hulls\",\"languisheth\",\"Cobb\",\"bustling\",\"Amid\",\"Forasmuch\",\"Birds\",\"gardening\",\"wish\",\"Lodge\",\"defending\",\"countries\",\"Rio\",\"Hamor\",\"area\",\"aery\",\"countenance\",\"Heaven\",\"Passing\",\"neede\",\"Happy\",\"stooping\",\"purely\",\"remembering\",\"appeased\",\"None\",\"jet\",\"Baltic\",\"sensations\",\"Goose\",\"diligent\",\"Fifty\",\"subsequent\",\"sufferance\",\"accent\",\"ditch\",\"vehicles\",\"insurrection\",\"24\",\"Wait\",\"horizontal\",\"Jezreel\",\"tin\",\"belly\",\"bags\",\"passe\",\"further\",\"rolled\",\"softly\",\"hundredfold\",\"impatience\",\"Amasai\",\"fornication\",\"Trick\",\"tournament\",\"Messa\",\"ferocity\",\"freight\",\"proudly\",\"wooden\",\"fund\",\"Haul\",\"disinclination\",\"preserveth\",\"signals\",\"crotch\",\"renew\",\"scripture\",\"fade\",\"Jeduthun\",\"Louis\",\"spikes\",\"forgiven\",\"station\",\"screen\",\"harsh\",\"stretcheth\",\"Sword\",\"sufficed\",\"Adonijah\",\"Comforter\",\"Add\",\"net\",\"Legions\",\"dock\",\"isolation\",\"lonely\",\"severed\",\"spouting\",\"humped\",\"leviathan\",\"named\",\"Isle\",\"Driven\",\"click\",\"plow\",\"dyed\",\"throughly\",\"distressed\",\"Fools\",\"Sophy\",\"resolve\",\"pipes\",\"cheek\",\"flood\",\"granite\",\"Otway\",\"almighty\",\"downs\",\"layeth\",\"Bab\",\"lambent\",\"uttered\",\"Israelites\",\"performing\",\"prophetess\",\"flashes\",\"W\",\"blushed\",\"legions\",\"grows\",\"Coxes\",\"dayes\",\"dalliance\",\"gunpowder\",\"debts\",\"summit\",\"burdensome\",\"good\",\"affirmed\",\"landscapes\",\"nettles\",\"62\",\"sobbed\",\"designs\",\"flown\",\"wealth\",\"gather\",\"scourge\",\"Wise\",\"Made\",\"seven\",\"hammock\",\"practised\",\"row\",\"Rabbi\",\"brittle\",\"acknowledge\",\"sanctuaries\",\"promptly\",\"kids\",\"hatchet\",\"grieve\",\"soule\",\"playthings\",\"disappeared\",\"Write\",\"whaler\",\"capstan\",\"debating\",\"ghastly\",\"physiology\",\"sober\",\"malignant\",\"straight\",\"button\",\"prodigy\",\"Council\",\"ordinances\",\"Cicero\",\"genius\",\"pierced\",\"Caterpillar\",\"reserved\",\"attending\",\"benevolent\",\"clouds\",\"isle\",\"mysterious\",\"Likewise\",\"prudent\",\"omer\",\"yacht\",\"dragon\",\"converted\",\"plume\",\"churches\",\"comforted\",\"Reasons\",\"drinketh\",\"pigeons\",\"navies\",\"snatch\",\"Columbia\",\"moving\",\"shrouded\",\"51\",\"airs\",\"cleansed\",\"hatred\",\"bothered\",\"defiled\",\"Fresh\",\"youth\",\"educated\",\"accusation\",\"beholding\",\"treacherous\",\"Letters\",\"16\",\"anarchy\",\"orient\",\"`\",\"assayed\",\"penny\",\"excite\",\"musical\",\"repay\",\"formation\",\"Dame\",\"scepticism\",\"complexion\",\"uniting\",\"foxes\",\"Does\",\"Twas\",\"showed\",\"briskly\",\"Leonora\",\"belt\",\"prayers\",\"127\",\"horn\",\"lemon\",\"timbers\",\"excited\",\"dairy\",\"32\",\"Keep\",\"rousing\",\"happier\",\"reproachfully\",\"reflectively\",\"Worm\",\"Slowly\",\"champions\",\"arises\",\"nigh\",\"supplying\",\"blasphemies\",\"Renard\",\"Angus\",\"dishonour\",\"health\",\"viewed\",\"necessity\",\"Ehud\",\"gaol\",\"Texas\",\"concealed\",\"awfully\",\"foolish\",\"porches\",\"odours\",\"bulls\",\"pronounced\",\"Raised\",\"birds\",\"leeward\",\"shewbread\",\"dwellings\",\"dash\",\"precepts\",\"Comfort\",\"lord\",\"brooding\",\"pursuit\",\"bigness\",\"Shem\",\"East\",\"unharmed\",\"understandeth\",\"Gihon\",\"recompence\",\"language\",\"environs\",\"Perfect\",\"flitting\",\"permission\",\"male\",\"orator\",\"bosom\",\"pail\",\"tempter\",\"lacked\",\"Meraioth\",\"witnessed\",\"anguish\",\"morsel\",\"concert\",\"fellows\",\"Dishan\",\"_I_\",\"minutely\",\"space\",\"banished\",\"hereditary\",\"revenger\",\"choking\",\"marries\",\"misconduct\",\"rotten\",\"rivulet\",\"unicorn\",\"recovered\",\"effectually\",\"quieted\",\"bearest\",\"Shunammite\",\"ahead\",\"stunning\",\"hiss\",\"Elton\",\"pleasantly\",\"walkest\",\"Commission\",\"hinder\",\"distinguished\",\"mansion\",\"Rejoice\",\"plots\",\"spend\",\"crashing\",\"Eliakim\",\"Asshur\",\"describing\",\"Things\",\"formed\",\"Diuell\",\"stumble\",\"132\",\"Wilkinson\",\"Arnon\",\"Majesty\",\"unbar\",\"broughtest\",\"Delaford\",\"thinker\",\"troubles\",\"freewill\",\"footsteps\",\"Massachusetts\",\"blows\",\"Countrymen\",\"128\",\"Ay\",\"hark\",\"stair\",\"gore\",\"tarried\",\"vales\",\"strew\",\"dogs\",\"fortnight\",\"binnacle\",\"entreat\",\"Remaliah\",\"bees\",\"danced\",\"James\",\"detailed\",\"barely\",\"Us\",\"Everything\",\"backbone\",\"jelly\",\"tugged\",\"burned\",\"covenant\",\"Timnath\",\"scorner\",\"flurry\",\"untimely\",\"ve\",\"ordinarily\",\"wasted\",\"Alps\",\"uncircumcision\",\"Perhaps\",\"rounded\",\"feasts\",\"isolated\",\"hemlock\",\"penetration\",\"Smiling\",\"impatient\",\"Don\",\"caresses\",\"ware\",\"estimated\",\"most\",\"persevere\",\"noticing\",\"balances\",\"dimness\",\"happily\",\"carved\",\"moist\",\"give\",\"steeds\",\"tie\",\"straitened\",\"fringes\",\"semicircle\",\"untouched\",\"covetous\",\"oarsmen\",\"Italians\",\"hireling\",\"executing\",\"foursquare\",\"twittering\",\"chasteneth\",\"harlots\",\"pitty\",\"haunted\",\"swarm\",\"equipped\",\"incompatible\",\"entrances\",\"whiteness\",\"waiter\",\"Wide\",\"earrings\",\"calculated\",\"purposes\",\"figure\",\"hap\",\"somewhere\",\"finally\",\"weighing\",\"feat\",\"tete\",\"big\",\"hadst\",\"iust\",\"remove\",\"aslant\",\"Iudgement\",\"arithmetic\",\"prose\",\"Jupiter\",\"sincere\",\"sycomore\",\"east\",\"existing\",\"Fisher\",\"Ahio\",\"myths\",\"robes\",\"swears\",\"chargeable\",\"recognised\",\"billow\",\"ascribe\",\"indulgent\",\"innkeeper\",\"whirling\",\"cucumbers\",\"Beleeue\",\"Nethaniah\",\"threshold\",\"quickened\",\"surrounding\",\"almonds\",\"certainty\",\"grief\",\"polished\",\"feareth\",\"tyrant\",\"Ephraimites\",\"vitality\",\"rampart\",\"landscape\",\"blacksmith\",\"Businesse\",\"potent\",\"Kingston\",\"crowd\",\"pearl\",\"begat\",\"Lights\",\"hoa\",\"kindreds\",\"prythee\",\"unquiet\",\"byword\",\"carnal\",\"clenched\",\"mountain\",\"anarchism\",\"courtesy\",\"desired\",\"stool\",\"aimed\",\"crucified\",\"divinely\",\"Sammy\",\"feelings\",\"chusing\",\"Tashtego\",\"steak\",\"livid\",\"root\",\"realities\",\"tillage\",\"bath\",\"Court\",\"IS\",\"suburbs\",\"treasuries\",\"magnanimity\",\"shifted\",\"exert\",\"partially\",\"yarn\",\"mumbling\",\"warrior\",\"Letter\",\"eternal\",\"lust\",\"enclose\",\"confounded\",\"mental\",\"failed\",\"Steeles\",\"rubbed\",\"embraced\",\"Islands\",\"resolution\",\"powers\",\"hundredth\",\"pebbles\",\"THAT\",\"caprice\",\"Appetite\",\"repenting\",\"Sooth\",\"direction\",\"scolding\",\"c\",\"exact\",\"whiles\",\"Helez\",\"golden\",\"Hands\",\"wearily\",\"lined\",\"prophecy\",\"tumults\",\"Plato\",\"Friday\",\"Aijalon\",\"bloom\",\"tulip\",\"Arioch\",\"anxiety\",\"engagements\",\"eras\",\"agreeably\",\"Gho\",\"tavern\",\"coast\",\"outmost\",\"_her_\",\"doctors\",\"Paumanok\",\"continueth\",\"whirls\",\"Osr\",\"readiness\",\"glimmering\",\"rose\",\"comely\",\"pagans\",\"admit\",\"kneeling\",\"infused\",\"succeeding\",\"sparrow\",\"thyself\",\"friend\",\"snuff\",\"planted\",\"pomegranate\",\"money\",\"crushed\",\"TAKE\",\"Uriel\",\"hoofs\",\"consultation\",\"Please\",\"convey\",\"admirable\",\"lawful\",\"Could\",\"waked\",\"substantial\",\"villains\",\"reflecting\",\"veil\",\"spars\",\"adjoining\",\"forlorn\",\"patch\",\"violence\",\"delays\",\"girded\",\"MacIan\",\"recommend\",\"Make\",\"out\",\"feeder\",\"insomuch\",\"wherein\",\"minute\",\"knights\",\"delicious\",\"swine\",\"accepting\",\"Greece\",\"cheerfulness\",\"109\",\"composition\",\"arrayed\",\"coupled\",\"desperately\",\"observation\",\"hawthorn\",\"globe\",\"Achilles\",\"pains\",\"turtledoves\",\"trieth\",\"aske\",\"_very_\",\"Jamin\",\"injured\",\"unnoticed\",\"bullock\",\"stale\",\"albatross\",\"breaketh\",\"conviction\",\"mysteriously\",\"rulers\",\"ee\",\"Close\",\"belonging\",\"beareth\",\"indecision\",\"Ratcliffe\",\"deliverance\",\"speeds\",\"canoes\",\"?'\",\"shuts\",\"ariseth\",\"XIII\",\"perceived\",\"lazily\",\"bucket\",\"precipice\",\"glisten\",\"Gomorrha\",\"capture\",\"mature\",\"moonlit\",\"explanations\",\"fragrance\",\"Jephunneh\",\"unworthy\",\"words\",\"necks\",\"Foyles\",\"gloves\",\"dost\",\"nicest\",\"conventional\",\"prescribed\",\"profited\",\"transfigured\",\"establish\",\"bright\",\"ripen\",\"Wonder\",\"passing\",\"prints\",\"certainties\",\"sustain\",\"working\",\"hanged\",\"finding\",\"hypocrisy\",\"turn\",\"Death\",\"consult\",\"Left\",\"selected\",\"Best\",\"ensign\",\"ingenuity\",\"cruel\",\"streets\",\"Malluch\",\"strange\",\"danger\",\"fruition\",\"dreamt\",\"native\",\"Man\",\"dieth\",\"nobles\",\"nobleman\",\"fourteen\",\"gasped\",\"captains\",\"apt\",\"result\",\"costliest\",\"lurked\",\"panniers\",\"celebrate\",\"reform\",\"China\",\"pound\",\"difference\",\"device\",\"Alarum\",\"odious\",\"SONGS\",\"Mexico\",\"obscurity\",\"caution\",\"royal\",\"lure\",\"deliver\",\"deaths\",\"2002\",\"pleas\",\"offences\",\"fainting\",\"Rehob\",\"height\",\"gentlemanlike\",\"undefiled\",\"piles\",\"distressing\",\"gentleness\",\"Sebastian\",\"puffs\",\"accurately\",\"claret\",\"unguarded\",\"Gutenberg\",\"earned\",\"wholly\",\"demure\",\"painter\",\"boarder\",\"recurred\",\"vital\",\"Steelkilt\",\"combinations\",\"pistols\",\"disturbing\",\"Yard\",\"buoy\",\"Stand\",\"vessels\",\"Should\",\"twelue\",\"exiled\",\"admits\",\"European\",\"affected\",\"peas\",\"Grandfather\",\"Tabor\",\"draughts\",\"drain\",\"transgressed\",\"Walter\",\"Line\",\"idiotic\",\"Trust\",\"36\",\"Gingerbread\",\"trot\",\"often\",\"Shimei\",\"luggage\",\"arranged\",\"chiefest\",\"intuitions\",\"parted\",\"Fairy\",\"omnibus\",\"leaf\",\"natures\",\"roar\",\"brimstone\",\"leant\",\"obedient\",\"temperance\",\"14\",\"concord\",\"Micaiah\",\"Arch\",\"whenever\",\"recorded\",\"uncertainty\",\"Cornish\",\"withal\",\"seer\",\"July\",\"Kish\",\"helmet\",\"consent\",\"moss\",\"adored\",\"Kishon\",\"heat\",\"Ducroix\",\"completely\",\"victories\",\"seen\",\"seat\",\"reader\",\"miracles\",\"list\",\"disgusted\",\"expelled\",\"added\",\"perform\",\"Sennacherib\",\"agency\",\"encouraged\",\"Abishai\",\"foiled\",\"blackmailed\",\"plentifully\",\"scatter\",\"Gershom\",\"lit\",\"Jeremoth\",\"contemptuously\",\"since\",\"beaten\",\"minutes\",\"peasant\",\"breake\",\"JESUS\",\"Aside\",\"Saw\",\"Quite\",\"couldest\",\"national\",\"target\",\"covetousness\",\"Did\",\"sobbing\",\"Passion\",\"suffice\",\"domain\",\"Tobiah\",\"sketch\",\"jeopardy\",\"avail\",\"constantly\",\"idleness\",\"posture\",\"victual\",\"falsely\",\"thinking\",\"Food\",\"atonement\",\"splendid\",\")\",\"juncture\",\"schooling\",\"groweth\",\"avaricious\",\"Kenite\",\"Ambitious\",\"crooked\",\"serenely\",\"OF\",\"base\",\"bleed\",\"gnawing\",\"crosse\",\"kneel\",\"Ophe\",\"Mahanaim\",\"forsook\",\"knife\",\"Iron\",\"Ere\",\"wretch\",\"Finsb\",\"corps\",\"napkin\",\"liver\",\"Drumme\",\"However\",\"Sire\",\"consented\",\"continental\",\"contentions\",\"Goliath\",\"Living\",\"Self\",\"average\",\"subdue\",\"Malcolme\",\"Rebekah\",\"XIV\",\"contrasting\",\"recover\",\"servitude\",\"Flowers\",\"smart\",\"shilling\",\"stating\",\"forsaketh\",\"compliment\",\"them\",\"rind\",\"kingdoms\",\"Peter\",\"holiest\",\"babes\",\"Poet\",\"cock\",\"Tyre\",\"insolently\",\"intricacies\",\"beholdest\",\"gravel\",\"passenger\",\"Wingfield\",\"hush\",\"Borne\",\"overthrown\",\"smiting\",\"stately\",\"shivering\",\"hasting\",\"supplanted\",\"Nile\",\"assisting\",\"Many\",\"seduced\",\"leagues\",\"11\",\"keels\",\"grizzled\",\"irrational\",\"Put\",\"genially\",\"occurrence\",\"glanced\",\"ox\",\"harper\",\"Knowest\",\"wisedome\",\"Each\",\"befel\",\"loosed\",\"carol\",\"seething\",\"cinnamon\",\"rounding\",\"Tema\",\"Fedallah\",\"Cambridge\",\"if\",\"inflamed\",\"knowne\",\"odorous\",\"careless\",\"seek\",\"fingers\",\"voyagers\",\"FOR\",\"yong\",\"exempt\",\"Simon\",\"sturdily\",\"dwelleth\",\"lay\",\"defence\",\"pots\",\"grave\",\"sanctuary\",\"muskets\",\"Upon\",\"saucy\",\"henceforth\",\"convincing\",\"weepe\",\"expounded\",\"gripe\",\"unemployed\",\"shining\",\"edify\",\"farther\",\"propose\",\"Barring\",\"chapel\",\"moody\",\"fray\",\"trusted\",\"healthy\",\"allusions\",\"disengaged\",\"invitation\",\"extinction\",\"Words\",\"constitution\",\"seam\",\"Millo\",\"boot\",\"chasten\",\"Leave\",\"ocean\",\"spectators\",\"loggerhead\",\"Joah\",\"perchance\",\"chips\",\"strewn\",\"birch\",\"Baruch\",\"swamp\",\"physicians\",\"etc\",\"fled\",\"penetrate\",\"Jabin\",\"entertain\",\"surrounded\",\"haggard\",\"fairs\",\"summoned\",\"relics\",\"Wherein\",\"reigning\",\"Galilee\",\"milliner\",\"atom\",\"bewilderment\",\"Philippi\",\"denounced\",\"Levites\",\"battledore\",\"gigantic\",\"HER\",\"hits\",\"unconcerned\",\"distrustful\",\"Chants\",\"restore\",\"Huh\",\"oblations\",\"raven\",\"examination\",\"which\",\"perceiue\",\"hauing\",\"purity\",\"Goddess\",\"compass\",\"drums\",\"dissolution\",\"prostitute\",\"betimes\",\"Low\",\"serious\",\"sedition\",\"decayed\",\"oblique\",\"Very\",\"clouded\",\"yawn\",\"camp\",\"strolled\",\"bedchamber\",\"Vigil\",\"peremptorily\",\"saved\",\"lover\",\"roof\",\"Hashum\",\"pinioned\",\"plumed\",\"pioneers\",\"Goe\",\"nowadays\",\"Jesus\",\"retire\",\"Somehow\",\"suggestion\",\"worst\",\"declining\",\"mouths\",\"sacks\",\"player\",\"flush\",\"plumes\",\"generally\",\"partiality\",\"throned\",\"wasting\",\"practising\",\"Mettle\",\"cities\",\"tell\",\"camerado\",\"Lazarus\",\"privileged\",\"rested\",\"Slaue\",\"uncommon\",\"aperture\",\"exhibited\",\"tyrants\",\"Caw\",\"Emma\",\"foreseeing\",\"Mast\",\"imitated\",\"conflict\",\"Zarhites\",\"waif\",\"ashamed\",\"worms\",\"prick\",\"glided\",\"devised\",\"forgiving\",\"coffin\",\"shrubberies\",\"Winds\",\"Rich\",\"won\",\"vivacious\",\"assertions\",\"strawed\",\"Pendragon\",\"psalm\",\"scorched\",\"emblem\",\"bracing\",\"curse\",\"dross\",\"Royall\",\"staid\",\"promenade\",\"Salah\",\"starting\",\"festival\",\"Camille\",\"beards\",\"Jahaz\",\"fort\",\"Curious\",\"Pope\",\"amid\",\"Bright\",\"attributing\",\"prophecies\",\"sensitive\",\"grander\",\"Martin\",\"loves\",\"boats\",\"disapprobation\",\"Proud\",\"examining\",\"setting\",\"scale\",\"grasshoppers\",\"corporeal\",\"retirement\",\"Scotchman\",\"ambition\",\"Tortoise\",\"instructed\",\"reddening\",\"paralytic\",\"brutal\",\"Nation\",\"appealing\",\"premises\",\"overturn\",\"editors\",\"patched\",\"sensational\",\"deuce\",\"city\",\"110\",\"Amon\",\"thousands\",\"unrolled\",\"psaltery\",\"Give\",\"proclamation\",\"mocks\",\"uncertain\",\"Until\",\"deference\",\"Soon\",\"moue\",\"swims\",\"SHALL\",\"terror\",\"hilarious\",\"polish\",\"Ezra\",\"likeness\",\"Looks\",\"VERY\",\"bosome\",\"oblige\",\"booths\",\"word\",\"baleen\",\"clank\",\"spring\",\"response\",\"moved\",\"handfuls\",\"peasants\",\"pile\",\"Grand\",\"habits\",\"Hatter\",\"Jediael\",\"raisins\",\"herbs\",\"College\",\"artists\",\"deceit\",\"Salute\",\"Robinson\",\"first\",\"grace\",\"recklessly\",\"bodies\",\"navel\",\"decree\",\"St\",\"build\",\"pasteboard\"],\"x\":{\"__ndarray__\":\"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\",\"dtype\":\"float64\",\"order\":\"little\",\"shape\":[5000]},\"y\":{\"__ndarray__\":\"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\",\"dtype\":\"float64\",\"order\":\"little\",\"shape\":[5000]}},\"selected\":{\"id\":\"1046\"},\"selection_policy\":{\"id\":\"1047\"}},\"id\":\"1033\",\"type\":\"ColumnDataSource\"}],\"root_ids\":[\"1002\"]},\"title\":\"Bokeh Application\",\"version\":\"2.3.3\"}};\n",
              "  var render_items = [{\"docid\":\"cf3a20a4-8290-4722-91d0-72bb48b3a68f\",\"root_ids\":[\"1002\"],\"roots\":{\"1002\":\"afcea71f-3d99-4465-bf89-af37581f14a2\"}}];\n",
              "  root.Bokeh.embed.embed_items_notebook(docs_json, render_items);\n",
              "\n",
              "  }\n",
              "  if (root.Bokeh !== undefined) {\n",
              "    embed_document(root);\n",
              "  } else {\n",
              "    var attempts = 0;\n",
              "    var timer = setInterval(function(root) {\n",
              "      if (root.Bokeh !== undefined) {\n",
              "        clearInterval(timer);\n",
              "        embed_document(root);\n",
              "      } else {\n",
              "        attempts++;\n",
              "        if (attempts > 100) {\n",
              "          clearInterval(timer);\n",
              "          console.log(\"Bokeh: ERROR: Unable to run BokehJS code because BokehJS library is missing\");\n",
              "        }\n",
              "      }\n",
              "    }, 10, root)\n",
              "  }\n",
              "})(window);"
            ],
            "application/vnd.bokehjs_exec.v0+json": ""
          },
          "metadata": {
            "tags": [],
            "application/vnd.bokehjs_exec.v0+json": {
              "id": "1002"
            }
          }
        }
      ]
    },
    {
      "cell_type": "code",
      "metadata": {
        "id": "OOa8fG1CbWlH"
      },
      "source": [
        ""
      ],
      "execution_count": null,
      "outputs": []
    }
  ]
}